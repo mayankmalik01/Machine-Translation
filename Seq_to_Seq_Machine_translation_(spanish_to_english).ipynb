{
  "nbformat": 4,
  "nbformat_minor": 0,
  "metadata": {
    "colab": {
      "name": "Seq to Seq - Machine translation (spanish to english)",
      "version": "0.3.2",
      "provenance": [],
      "collapsed_sections": []
    },
    "kernelspec": {
      "name": "python3",
      "display_name": "Python 3"
    },
    "accelerator": "GPU"
  },
  "cells": [
    {
      "cell_type": "code",
      "metadata": {
        "id": "KLpSGgPoxJ2Q",
        "colab_type": "code",
        "colab": {}
      },
      "source": [
        "import os, sys\n",
        "\n",
        "from keras.models import Model\n",
        "from keras.layers import Input, LSTM, GRU, Dense, Embedding\n",
        "from keras.preprocessing.text import Tokenizer\n",
        "from keras.preprocessing.sequence import pad_sequences\n",
        "from keras.utils import to_categorical\n",
        "import numpy as np\n",
        "import matplotlib.pyplot as plt\n"
      ],
      "execution_count": 0,
      "outputs": []
    },
    {
      "cell_type": "code",
      "metadata": {
        "id": "KaS61JyS0FJF",
        "colab_type": "code",
        "outputId": "5647945a-54d0-459b-ec60-cee90648dc7e",
        "colab": {
          "base_uri": "https://localhost:8080/",
          "height": 34
        }
      },
      "source": [
        "from google.colab import drive\n",
        "drive.mount('/content/gdrive')"
      ],
      "execution_count": 39,
      "outputs": [
        {
          "output_type": "stream",
          "text": [
            "Drive already mounted at /content/gdrive; to attempt to forcibly remount, call drive.mount(\"/content/gdrive\", force_remount=True).\n"
          ],
          "name": "stdout"
        }
      ]
    },
    {
      "cell_type": "code",
      "metadata": {
        "id": "y003cAXXzIPO",
        "colab_type": "code",
        "outputId": "0b11f2d9-bef9-403c-ac16-86ddfaa6e478",
        "colab": {
          "base_uri": "https://localhost:8080/",
          "height": 34
        }
      },
      "source": [
        "# some config\n",
        "BATCH_SIZE = 64  # Batch size for training.\n",
        "EPOCHS = 100  # Number of epochs to train for.\n",
        "LATENT_DIM = 256  # Latent dimensionality of the encoding space.\n",
        "NUM_SAMPLES = 20000  # Number of samples to train on.\n",
        "MAX_SEQUENCE_LENGTH = 100\n",
        "MAX_NUM_WORDS = 20000\n",
        "EMBEDDING_DIM = 100\n",
        "\n",
        "# Where we will store the data\n",
        "input_texts = [] # sentence in original language\n",
        "target_texts = [] # sentence in target language\n",
        "target_texts_inputs = [] # sentence in target language offset by 1\n",
        "\n",
        "\n",
        "# load in the data\n",
        "# download the data at: http://www.manythings.org/anki/\n",
        "t = 0\n",
        "for line in open('/content/gdrive/My Drive/NLP project/spa.txt'):\n",
        "  # only keep a limited number of samples\n",
        "  t += 1\n",
        "  if t > NUM_SAMPLES:\n",
        "    break\n",
        "\n",
        "  # input and target are separated by tab\n",
        "  if '\\t' not in line:\n",
        "    continue\n",
        "\n",
        "  # split up the input and translation\n",
        "  input_text, translation = line.rstrip().split('\\t')\n",
        "\n",
        "  # make the target input and output\n",
        "  # recall we'll be using teacher forcing\n",
        "  target_text = translation + ' <eos>'\n",
        "  target_text_input = '<sos> ' + translation\n",
        "\n",
        "  input_texts.append(input_text)\n",
        "  target_texts.append(target_text)\n",
        "  target_texts_inputs.append(target_text_input)\n",
        "print(\"num samples:\", len(input_texts))\n"
      ],
      "execution_count": 41,
      "outputs": [
        {
          "output_type": "stream",
          "text": [
            "num samples: 20000\n"
          ],
          "name": "stdout"
        }
      ]
    },
    {
      "cell_type": "code",
      "metadata": {
        "id": "DIVvteSSonpe",
        "colab_type": "code",
        "outputId": "04be5c18-6bb8-45ec-8a58-2e27ec954f79",
        "colab": {
          "base_uri": "https://localhost:8080/",
          "height": 51
        }
      },
      "source": [
        "# tokenize the inputs\n",
        "tokenizer_inputs = Tokenizer(num_words=MAX_NUM_WORDS)\n",
        "tokenizer_inputs.fit_on_texts(input_texts)\n",
        "input_sequences = tokenizer_inputs.texts_to_sequences(input_texts)\n",
        "\n",
        "# get the word to index mapping for input language\n",
        "word2idx_inputs = tokenizer_inputs.word_index\n",
        "print('Found %s unique input tokens.' % len(word2idx_inputs))\n",
        "\n",
        "# determine maximum length input sequence\n",
        "max_len_input = max(len(s) for s in input_sequences)\n",
        "\n",
        "# tokenize the outputs\n",
        "# don't filter out special characters\n",
        "# otherwise <sos> and <eos> won't appear\n",
        "tokenizer_outputs = Tokenizer(num_words=MAX_NUM_WORDS, filters='')\n",
        "tokenizer_outputs.fit_on_texts(target_texts + target_texts_inputs) # inefficient, oh well\n",
        "target_sequences = tokenizer_outputs.texts_to_sequences(target_texts)\n",
        "target_sequences_inputs = tokenizer_outputs.texts_to_sequences(target_texts_inputs)\n",
        "\n",
        "# get the word to index mapping for output language\n",
        "word2idx_outputs = tokenizer_outputs.word_index\n",
        "print('Found %s unique output tokens.' % len(word2idx_outputs))\n"
      ],
      "execution_count": 42,
      "outputs": [
        {
          "output_type": "stream",
          "text": [
            "Found 3827 unique input tokens.\n",
            "Found 10570 unique output tokens.\n"
          ],
          "name": "stdout"
        }
      ]
    },
    {
      "cell_type": "code",
      "metadata": {
        "id": "SY_e4CIqs-u6",
        "colab_type": "code",
        "outputId": "30e8b1bd-d378-4d00-9642-3cb2e58bfd66",
        "colab": {
          "base_uri": "https://localhost:8080/",
          "height": 34
        }
      },
      "source": [
        "# store number of output words for later\n",
        "# remember to add 1 since indexing starts at 1\n",
        "num_words_output = len(word2idx_outputs) + 1\n",
        "\n",
        "# determine maximum length output sequence\n",
        "max_len_target = max(len(s) for s in target_sequences)\n",
        "max_len_target"
      ],
      "execution_count": 43,
      "outputs": [
        {
          "output_type": "execute_result",
          "data": {
            "text/plain": [
              "13"
            ]
          },
          "metadata": {
            "tags": []
          },
          "execution_count": 43
        }
      ]
    },
    {
      "cell_type": "code",
      "metadata": {
        "id": "n_gcrFbFtZJP",
        "colab_type": "code",
        "outputId": "0f3017b5-b75c-44e5-b1e4-6725d91918ec",
        "colab": {
          "base_uri": "https://localhost:8080/",
          "height": 85
        }
      },
      "source": [
        "# pad the sequences\n",
        "encoder_inputs = pad_sequences(input_sequences, maxlen=max_len_input)\n",
        "print(\"encoder_inputs.shape:\", encoder_inputs.shape)\n",
        "print(\"encoder_inputs[0]:\", encoder_inputs[0])\n",
        "\n",
        "decoder_inputs = pad_sequences(target_sequences_inputs, maxlen=max_len_target, padding='post')\n",
        "print(\"decoder_inputs[0]:\", decoder_inputs[0])\n",
        "print(\"decoder_inputs.shape:\", decoder_inputs.shape)\n",
        "\n",
        "decoder_targets = pad_sequences(target_sequences, maxlen=max_len_target, padding='post')\n",
        "\n"
      ],
      "execution_count": 44,
      "outputs": [
        {
          "output_type": "stream",
          "text": [
            "encoder_inputs.shape: (20000, 6)\n",
            "encoder_inputs[0]: [ 0  0  0  0  0 23]\n",
            "decoder_inputs[0]: [   2 2889    0    0    0    0    0    0    0    0    0    0    0]\n",
            "decoder_inputs.shape: (20000, 13)\n"
          ],
          "name": "stdout"
        }
      ]
    },
    {
      "cell_type": "code",
      "metadata": {
        "id": "k-0y8xpOuLCQ",
        "colab_type": "code",
        "outputId": "56db394f-80e7-4aff-a70a-f30febeea683",
        "colab": {
          "base_uri": "https://localhost:8080/",
          "height": 51
        }
      },
      "source": [
        "# store all the pre-trained word vectors\n",
        "print('Loading word vectors...')\n",
        "word2vec = {}\n",
        "with open(os.path.join('/content/gdrive/My Drive/NLP project/glove.6B/glove.6B.%sd.txt' % EMBEDDING_DIM)) as f:\n",
        "  # is just a space-separated text file in the format:\n",
        "  # word vec[0] vec[1] vec[2] ...\n",
        "  for line in f:\n",
        "    values = line.split()\n",
        "    word = values[0]\n",
        "    vec = np.asarray(values[1:], dtype='float32')\n",
        "    word2vec[word] = vec\n",
        "\n",
        "print('Found %s word vectors.' % len(word2vec))\n"
      ],
      "execution_count": 45,
      "outputs": [
        {
          "output_type": "stream",
          "text": [
            "Loading word vectors...\n",
            "Found 400000 word vectors.\n"
          ],
          "name": "stdout"
        }
      ]
    },
    {
      "cell_type": "code",
      "metadata": {
        "id": "kHSTv3wGucZJ",
        "colab_type": "code",
        "outputId": "2cff02b1-53ca-4e6a-f702-47452e6885c5",
        "colab": {
          "base_uri": "https://localhost:8080/",
          "height": 34
        }
      },
      "source": [
        "word2vec[\"yellow\"].shape"
      ],
      "execution_count": 18,
      "outputs": [
        {
          "output_type": "execute_result",
          "data": {
            "text/plain": [
              "(100,)"
            ]
          },
          "metadata": {
            "tags": []
          },
          "execution_count": 18
        }
      ]
    },
    {
      "cell_type": "code",
      "metadata": {
        "id": "bfjQWim8A3IZ",
        "colab_type": "code",
        "colab": {
          "base_uri": "https://localhost:8080/",
          "height": 34
        },
        "outputId": "9d973719-a259-4b31-d687-c334d372ea3e"
      },
      "source": [
        "# prepare embedding matrix\n",
        "print('Filling pre-trained embeddings...')\n",
        "num_words = min(MAX_NUM_WORDS, len(word2idx_inputs) + 1)\n",
        "embedding_matrix = np.zeros((num_words, EMBEDDING_DIM))\n",
        "#print(embedding_matrix.shape)\n",
        "for word, i in word2idx_inputs.items():\n",
        "  if i < MAX_NUM_WORDS:\n",
        "    #print(word,i)\n",
        "    embedding_vector = word2vec.get(word)\n",
        "    if embedding_vector is not None:\n",
        "      # words not found in embedding index will be all zeros.\n",
        "      embedding_matrix[i] = embedding_vector\n"
      ],
      "execution_count": 46,
      "outputs": [
        {
          "output_type": "stream",
          "text": [
            "Filling pre-trained embeddings...\n"
          ],
          "name": "stdout"
        }
      ]
    },
    {
      "cell_type": "code",
      "metadata": {
        "id": "LNengCghXQUy",
        "colab_type": "code",
        "colab": {
          "base_uri": "https://localhost:8080/",
          "height": 34
        },
        "outputId": "57471cda-c87b-4a9f-94ed-47f2e8400d5b"
      },
      "source": [
        "# create embedding layer\n",
        "embedding_layer = Embedding(\n",
        "  num_words,\n",
        "  EMBEDDING_DIM,\n",
        "  weights=[embedding_matrix],\n",
        "  input_length=max_len_input,\n",
        "  # trainable=True\n",
        ")\n"
      ],
      "execution_count": 51,
      "outputs": [
        {
          "output_type": "execute_result",
          "data": {
            "text/plain": [
              "<keras.layers.embeddings.Embedding at 0x7fbf9e21ab70>"
            ]
          },
          "metadata": {
            "tags": []
          },
          "execution_count": 51
        }
      ]
    },
    {
      "cell_type": "code",
      "metadata": {
        "id": "YVwO52wnahfe",
        "colab_type": "code",
        "colab": {}
      },
      "source": [
        "# create embedding layer\n",
        "# create targets, since we cannot use sparse\n",
        "# categorical cross entropy when we have sequences\n",
        "\n",
        "decoder_targets_one_hot = np.zeros(\n",
        "  (\n",
        "    len(input_texts),\n",
        "    max_len_target,\n",
        "    num_words_output\n",
        "  ),\n",
        "  dtype='float32'\n",
        ")"
      ],
      "execution_count": 0,
      "outputs": []
    },
    {
      "cell_type": "code",
      "metadata": {
        "id": "QaBR_30SajAo",
        "colab_type": "code",
        "colab": {
          "base_uri": "https://localhost:8080/",
          "height": 34
        },
        "outputId": "8f59f242-77eb-42a9-996f-744c55a049b9"
      },
      "source": [
        "decoder_targets_one_hot.shape"
      ],
      "execution_count": 59,
      "outputs": [
        {
          "output_type": "execute_result",
          "data": {
            "text/plain": [
              "(20000, 13, 10571)"
            ]
          },
          "metadata": {
            "tags": []
          },
          "execution_count": 59
        }
      ]
    },
    {
      "cell_type": "code",
      "metadata": {
        "id": "zyFjl28F6hYU",
        "colab_type": "code",
        "outputId": "5488cde5-1e63-4f2e-ae8f-fe84faa16dd7",
        "colab": {
          "base_uri": "https://localhost:8080/",
          "height": 4638
        }
      },
      "source": [
        "\n",
        "# create embedding layer\n",
        "\n",
        "# create targets, since we cannot use sparse\n",
        "# categorical cross entropy when we have sequences\n",
        "decoder_targets_one_hot = np.zeros(\n",
        "  (\n",
        "    len(input_texts),\n",
        "    max_len_target,\n",
        "    num_words_output\n",
        "  ),\n",
        "  dtype='float32'\n",
        ")\n",
        "\n",
        "# assign the values\n",
        "for i, d in enumerate(decoder_targets):\n",
        "  for t, word in enumerate(d):\n",
        "    decoder_targets_one_hot[i, t, word] = 1\n",
        "\n",
        "\n",
        "##### build the model #####\n",
        "encoder_inputs_placeholder = Input(shape=(max_len_input,))\n",
        "x = embedding_layer(encoder_inputs_placeholder)\n",
        "encoder = LSTM(\n",
        "  LATENT_DIM,\n",
        "  return_state=True,\n",
        "  # dropout=0.5 # dropout not available on gpu\n",
        ")\n",
        "encoder_outputs, h, c = encoder(x)\n",
        "# encoder_outputs, h = encoder(x) #gru\n",
        "\n",
        "# keep only the states to pass into decoder\n",
        "encoder_states = [h, c]\n",
        "# encoder_states = [state_h] # gru\n",
        "\n",
        "# Set up the decoder, using [h, c] as initial state.\n",
        "decoder_inputs_placeholder = Input(shape=(max_len_target,))\n",
        "\n",
        "# this word embedding will not use pre-trained vectors\n",
        "# although you could\n",
        "decoder_embedding = Embedding(num_words_output, LATENT_DIM)\n",
        "decoder_inputs_x = decoder_embedding(decoder_inputs_placeholder)\n",
        "\n",
        "# since the decoder is a \"to-many\" model we want to have\n",
        "# return_sequences=True\n",
        "decoder_lstm = LSTM(\n",
        "  LATENT_DIM,\n",
        "  return_sequences=True,\n",
        "  return_state=True,\n",
        "  # dropout=0.5 # dropout not available on gpu\n",
        ")\n",
        "decoder_outputs, _, _ = decoder_lstm(\n",
        "  decoder_inputs_x,\n",
        "  initial_state=encoder_states\n",
        ")\n",
        "\n",
        "# decoder_outputs, _ = decoder_gru(\n",
        "#   decoder_inputs_x,\n",
        "#   initial_state=encoder_states\n",
        "# )\n",
        "\n",
        "# final dense layer for predictions\n",
        "decoder_dense = Dense(num_words_output, activation='softmax')\n",
        "decoder_outputs = decoder_dense(decoder_outputs)\n",
        "\n",
        "# Create the model object\n",
        "model = Model([encoder_inputs_placeholder, decoder_inputs_placeholder], decoder_outputs)\n",
        "\n",
        "# Compile the model and train it\n",
        "model.compile(\n",
        "  optimizer='rmsprop',\n",
        "  loss='categorical_crossentropy',\n",
        "  metrics=['accuracy']\n",
        ")\n",
        "r = model.fit(\n",
        "  [encoder_inputs, decoder_inputs], decoder_targets_one_hot,\n",
        "  batch_size=BATCH_SIZE,\n",
        "  epochs=EPOCHS,\n",
        "  validation_split=0.2,\n",
        ")\n",
        "\n",
        "# plot some data\n",
        "plt.plot(r.history['loss'], label='loss')\n",
        "plt.plot(r.history['val_loss'], label='val_loss')\n",
        "plt.legend()\n",
        "plt.show()\n",
        "\n",
        "# accuracies\n",
        "plt.plot(r.history['acc'], label='acc')\n",
        "plt.plot(r.history['val_acc'], label='val_acc')\n",
        "plt.legend()\n",
        "plt.show()\n",
        "\n",
        "# Save model\n",
        "model.save('s2s.h5')\n",
        "n\n",
        "\n",
        "##### Make predictions #####\n",
        "# As with the poetry example, we need to create another model\n",
        "# that can take in the RNN state and previous word as input\n",
        "# and accept a T=1 sequence.\n",
        "\n",
        "# The encoder will be stand-alone\n",
        "# From this we will get our initial decoder hidden state\n",
        "encoder_model = Model(encoder_inputs_placeholder, encoder_states)\n",
        "\n",
        "decoder_state_input_h = Input(shape=(LATENT_DIM,))\n",
        "decoder_state_input_c = Input(shape=(LATENT_DIM,))\n",
        "decoder_states_inputs = [decoder_state_input_h, decoder_state_input_c]\n",
        "# decoder_states_inputs = [decoder_state_input_h] # gru\n",
        "\n",
        "decoder_inputs_single = Input(shape=(1,))\n",
        "decoder_inputs_single_x = decoder_embedding(decoder_inputs_single)\n",
        "\n",
        "\n",
        "# this time, we want to keep the states too, to be output\n",
        "# by our sampling model\n",
        "decoder_outputs, h, c = decoder_lstm(\n",
        "  decoder_inputs_single_x,\n",
        "  initial_state=decoder_states_inputs\n",
        ")\n",
        "# decoder_outputs, state_h = decoder_lstm(\n",
        "#   decoder_inputs_single_x,\n",
        "#   initial_state=decoder_states_inputs\n",
        "# ) #gru\n",
        "decoder_states = [h, c]\n",
        "# decoder_states = [h] # gru\n",
        "decoder_outputs = decoder_dense(decoder_outputs)\n",
        "\n",
        "# The sampling model\n",
        "# inputs: y(t-1), h(t-1), c(t-1)\n",
        "# outputs: y(t), h(t), c(t)\n",
        "decoder_model = Model(\n",
        "  [decoder_inputs_single] + decoder_states_inputs, \n",
        "  [decoder_outputs] + decoder_states\n",
        ")\n",
        "\n",
        "# map indexes back into real words\n",
        "# so we can view the results\n",
        "idx2word_eng = {v:k for k, v in word2idx_inputs.items()}\n",
        "idx2word_trans = {v:k for k, v in word2idx_outputs.items()}\n",
        "\n",
        "\n",
        "def decode_sequence(input_seq):\n",
        "  # Encode the input as state vectors.\n",
        "  states_value = encoder_model.predict(input_seq)\n",
        "\n",
        "  # Generate empty target sequence of length 1.\n",
        "  target_seq = np.zeros((1, 1))\n",
        "\n",
        "  # Populate the first character of target sequence with the start character.\n",
        "  # NOTE: tokenizer lower-cases all words\n",
        "  target_seq[0, 0] = word2idx_outputs['<sos>']\n",
        "\n",
        "  # if we get this we break\n",
        "  eos = word2idx_outputs['<eos>']\n",
        "\n",
        "  # Create the translation\n",
        "  output_sentence = []\n",
        "  for _ in range(max_len_target):\n",
        "    output_tokens, h, c = decoder_model.predict(\n",
        "      [target_seq] + states_value\n",
        "    )\n",
        "    # output_tokens, h = decoder_model.predict(\n",
        "    #     [target_seq] + states_value\n",
        "    # ) # gru\n",
        "\n",
        "    # Get next word\n",
        "    idx = np.argmax(output_tokens[0, 0, :])\n",
        "\n",
        "    # End sentence of EOS\n",
        "    if eos == idx:\n",
        "      break\n",
        "\n",
        "    word = ''\n",
        "    if idx > 0:\n",
        "      word = idx2word_trans[idx]\n",
        "      output_sentence.append(word)\n",
        "\n",
        "    # Update the decoder input\n",
        "    # which is just the word just generated\n",
        "    target_seq[0, 0] = idx\n",
        "\n",
        "    # Update states\n",
        "    states_value = [h, c]\n",
        "    # states_value = [h] # gru\n",
        "\n",
        "  return ' '.join(output_sentence)\n",
        "\n",
        "\n",
        "\n",
        "while True:\n",
        "  # Do some test translations\n",
        "  i = np.random.choice(len(input_texts))\n",
        "  input_seq = encoder_inputs[i:i+1]\n",
        "  translation = decode_sequence(input_seq)\n",
        "  print('-')\n",
        "  print('Input:', input_texts[i])\n",
        "  print('Translation:', translation)\n",
        "\n",
        "  ans = input(\"Continue? [Y/n]\")\n",
        "  if ans and ans.lower().startswith('n'):\n",
        "    break\n",
        "\n"
      ],
      "execution_count": 0,
      "outputs": [
        {
          "output_type": "stream",
          "text": [
            "Found 2364 unique input tokens.\n",
            "Found 6294 unique output tokens.\n",
            "encoder_inputs.shape: (10000, 5)\n",
            "encoder_inputs[0]: [ 0  0  0  0 14]\n",
            "decoder_inputs[0]: [   2 1480    0    0    0    0    0    0    0]\n",
            "decoder_inputs.shape: (10000, 9)\n",
            "Loading word vectors...\n",
            "Found 400000 word vectors.\n",
            "Filling pre-trained embeddings...\n",
            "WARNING:tensorflow:From /usr/local/lib/python3.6/dist-packages/tensorflow/python/framework/op_def_library.py:263: colocate_with (from tensorflow.python.framework.ops) is deprecated and will be removed in a future version.\n",
            "Instructions for updating:\n",
            "Colocations handled automatically by placer.\n",
            "WARNING:tensorflow:From /usr/local/lib/python3.6/dist-packages/tensorflow/python/ops/math_ops.py:3066: to_int32 (from tensorflow.python.ops.math_ops) is deprecated and will be removed in a future version.\n",
            "Instructions for updating:\n",
            "Use tf.cast instead.\n",
            "WARNING:tensorflow:From /usr/local/lib/python3.6/dist-packages/tensorflow/python/ops/math_grad.py:102: div (from tensorflow.python.ops.math_ops) is deprecated and will be removed in a future version.\n",
            "Instructions for updating:\n",
            "Deprecated in favor of operator or tf.math.divide.\n",
            "Train on 8000 samples, validate on 2000 samples\n",
            "Epoch 1/100\n",
            "8000/8000 [==============================] - 8s 1ms/step - loss: 2.6427 - acc: 0.6596 - val_loss: 2.6036 - val_acc: 0.6598\n",
            "Epoch 2/100\n",
            "8000/8000 [==============================] - 6s 740us/step - loss: 2.0105 - acc: 0.7156 - val_loss: 2.4163 - val_acc: 0.6745\n",
            "Epoch 3/100\n",
            "8000/8000 [==============================] - 6s 735us/step - loss: 1.7926 - acc: 0.7374 - val_loss: 2.2470 - val_acc: 0.6955\n",
            "Epoch 4/100\n",
            "8000/8000 [==============================] - 6s 780us/step - loss: 1.6338 - acc: 0.7555 - val_loss: 2.1358 - val_acc: 0.7101\n",
            "Epoch 5/100\n",
            "8000/8000 [==============================] - 6s 780us/step - loss: 1.4982 - acc: 0.7711 - val_loss: 2.0561 - val_acc: 0.7212\n",
            "Epoch 6/100\n",
            "8000/8000 [==============================] - 6s 740us/step - loss: 1.3828 - acc: 0.7850 - val_loss: 1.9940 - val_acc: 0.7323\n",
            "Epoch 7/100\n",
            "8000/8000 [==============================] - 6s 737us/step - loss: 1.2833 - acc: 0.7944 - val_loss: 1.9964 - val_acc: 0.7332\n",
            "Epoch 8/100\n",
            "8000/8000 [==============================] - 6s 739us/step - loss: 1.2020 - acc: 0.8039 - val_loss: 1.9834 - val_acc: 0.7353\n",
            "Epoch 9/100\n",
            "8000/8000 [==============================] - 6s 740us/step - loss: 1.1290 - acc: 0.8137 - val_loss: 1.9826 - val_acc: 0.7317\n",
            "Epoch 10/100\n",
            "8000/8000 [==============================] - 6s 737us/step - loss: 1.0621 - acc: 0.8222 - val_loss: 1.9616 - val_acc: 0.7320\n",
            "Epoch 11/100\n",
            "8000/8000 [==============================] - 6s 736us/step - loss: 0.9976 - acc: 0.8304 - val_loss: 1.9928 - val_acc: 0.7277\n",
            "Epoch 12/100\n",
            "8000/8000 [==============================] - 6s 739us/step - loss: 0.9400 - acc: 0.8384 - val_loss: 1.9658 - val_acc: 0.7297\n",
            "Epoch 13/100\n",
            "8000/8000 [==============================] - 6s 737us/step - loss: 0.8883 - acc: 0.8458 - val_loss: 1.9939 - val_acc: 0.7262\n",
            "Epoch 14/100\n",
            "8000/8000 [==============================] - 6s 739us/step - loss: 0.8391 - acc: 0.8533 - val_loss: 2.0050 - val_acc: 0.7281\n",
            "Epoch 15/100\n",
            "8000/8000 [==============================] - 6s 740us/step - loss: 0.7925 - acc: 0.8603 - val_loss: 2.0083 - val_acc: 0.7289\n",
            "Epoch 16/100\n",
            "8000/8000 [==============================] - 6s 741us/step - loss: 0.7506 - acc: 0.8669 - val_loss: 2.0239 - val_acc: 0.7293\n",
            "Epoch 17/100\n",
            "8000/8000 [==============================] - 6s 769us/step - loss: 0.7119 - acc: 0.8727 - val_loss: 2.0248 - val_acc: 0.7307\n",
            "Epoch 18/100\n",
            "8000/8000 [==============================] - 7s 835us/step - loss: 0.6774 - acc: 0.8784 - val_loss: 2.0418 - val_acc: 0.7301\n",
            "Epoch 19/100\n",
            "8000/8000 [==============================] - 6s 768us/step - loss: 0.6431 - acc: 0.8836 - val_loss: 2.0844 - val_acc: 0.7288\n",
            "Epoch 20/100\n",
            "8000/8000 [==============================] - 6s 739us/step - loss: 0.6094 - acc: 0.8883 - val_loss: 2.0980 - val_acc: 0.7303\n",
            "Epoch 21/100\n",
            "8000/8000 [==============================] - 6s 730us/step - loss: 0.5780 - acc: 0.8927 - val_loss: 2.0915 - val_acc: 0.7293\n",
            "Epoch 22/100\n",
            "8000/8000 [==============================] - 6s 734us/step - loss: 0.5489 - acc: 0.8970 - val_loss: 2.1121 - val_acc: 0.7299\n",
            "Epoch 23/100\n",
            "8000/8000 [==============================] - 6s 740us/step - loss: 0.5199 - acc: 0.9025 - val_loss: 2.1367 - val_acc: 0.7303\n",
            "Epoch 24/100\n",
            "8000/8000 [==============================] - 6s 741us/step - loss: 0.4912 - acc: 0.9057 - val_loss: 2.1315 - val_acc: 0.7306\n",
            "Epoch 25/100\n",
            "8000/8000 [==============================] - 6s 741us/step - loss: 0.4654 - acc: 0.9101 - val_loss: 2.1346 - val_acc: 0.7321\n",
            "Epoch 26/100\n",
            "8000/8000 [==============================] - 6s 748us/step - loss: 0.4414 - acc: 0.9134 - val_loss: 2.1470 - val_acc: 0.7318\n",
            "Epoch 27/100\n",
            "8000/8000 [==============================] - 6s 781us/step - loss: 0.4212 - acc: 0.9171 - val_loss: 2.1493 - val_acc: 0.7304\n",
            "Epoch 28/100\n",
            "8000/8000 [==============================] - 6s 763us/step - loss: 0.4042 - acc: 0.9201 - val_loss: 2.1605 - val_acc: 0.7291\n",
            "Epoch 29/100\n",
            "8000/8000 [==============================] - 6s 746us/step - loss: 0.3854 - acc: 0.9240 - val_loss: 2.1665 - val_acc: 0.7305\n",
            "Epoch 30/100\n",
            "8000/8000 [==============================] - 6s 743us/step - loss: 0.3690 - acc: 0.9266 - val_loss: 2.1800 - val_acc: 0.7309\n",
            "Epoch 31/100\n",
            "8000/8000 [==============================] - 6s 797us/step - loss: 0.3532 - acc: 0.9289 - val_loss: 2.1950 - val_acc: 0.7295\n",
            "Epoch 32/100\n",
            "8000/8000 [==============================] - 6s 779us/step - loss: 0.3383 - acc: 0.9321 - val_loss: 2.2058 - val_acc: 0.7302\n",
            "Epoch 33/100\n",
            "8000/8000 [==============================] - 6s 744us/step - loss: 0.3229 - acc: 0.9340 - val_loss: 2.2119 - val_acc: 0.7311\n",
            "Epoch 34/100\n",
            "8000/8000 [==============================] - 6s 743us/step - loss: 0.3108 - acc: 0.9366 - val_loss: 2.2287 - val_acc: 0.7293\n",
            "Epoch 35/100\n",
            "8000/8000 [==============================] - 6s 742us/step - loss: 0.2968 - acc: 0.9389 - val_loss: 2.2451 - val_acc: 0.7289\n",
            "Epoch 36/100\n",
            "8000/8000 [==============================] - 6s 739us/step - loss: 0.2823 - acc: 0.9416 - val_loss: 2.2360 - val_acc: 0.7298\n",
            "Epoch 37/100\n",
            "8000/8000 [==============================] - 6s 742us/step - loss: 0.2700 - acc: 0.9440 - val_loss: 2.2650 - val_acc: 0.7288\n",
            "Epoch 38/100\n",
            "8000/8000 [==============================] - 6s 743us/step - loss: 0.2615 - acc: 0.9454 - val_loss: 2.2676 - val_acc: 0.7277\n",
            "Epoch 39/100\n",
            "8000/8000 [==============================] - 6s 748us/step - loss: 0.2539 - acc: 0.9456 - val_loss: 2.2666 - val_acc: 0.7271\n",
            "Epoch 40/100\n",
            "8000/8000 [==============================] - 6s 743us/step - loss: 0.2457 - acc: 0.9472 - val_loss: 2.2861 - val_acc: 0.7265\n",
            "Epoch 41/100\n",
            "8000/8000 [==============================] - 6s 743us/step - loss: 0.2382 - acc: 0.9481 - val_loss: 2.2866 - val_acc: 0.7262\n",
            "Epoch 42/100\n",
            "8000/8000 [==============================] - 6s 737us/step - loss: 0.2311 - acc: 0.9493 - val_loss: 2.2875 - val_acc: 0.7270\n",
            "Epoch 43/100\n",
            "8000/8000 [==============================] - 6s 735us/step - loss: 0.2232 - acc: 0.9503 - val_loss: 2.2926 - val_acc: 0.7271\n",
            "Epoch 44/100\n",
            "8000/8000 [==============================] - 6s 762us/step - loss: 0.2158 - acc: 0.9514 - val_loss: 2.3024 - val_acc: 0.7254\n",
            "Epoch 45/100\n",
            "8000/8000 [==============================] - 6s 790us/step - loss: 0.2095 - acc: 0.9513 - val_loss: 2.3175 - val_acc: 0.7243\n",
            "Epoch 46/100\n",
            "8000/8000 [==============================] - 6s 736us/step - loss: 0.2024 - acc: 0.9524 - val_loss: 2.3158 - val_acc: 0.7252\n",
            "Epoch 47/100\n",
            "8000/8000 [==============================] - 6s 744us/step - loss: 0.1975 - acc: 0.9528 - val_loss: 2.3423 - val_acc: 0.7252\n",
            "Epoch 48/100\n",
            "8000/8000 [==============================] - 6s 736us/step - loss: 0.1915 - acc: 0.9538 - val_loss: 2.3127 - val_acc: 0.7253\n",
            "Epoch 49/100\n",
            "8000/8000 [==============================] - 6s 734us/step - loss: 0.1863 - acc: 0.9536 - val_loss: 2.3455 - val_acc: 0.7241\n",
            "Epoch 50/100\n",
            "8000/8000 [==============================] - 6s 733us/step - loss: 0.1819 - acc: 0.9541 - val_loss: 2.3406 - val_acc: 0.7273\n",
            "Epoch 51/100\n",
            "8000/8000 [==============================] - 6s 733us/step - loss: 0.1763 - acc: 0.9551 - val_loss: 2.3566 - val_acc: 0.7234\n",
            "Epoch 52/100\n",
            "8000/8000 [==============================] - 6s 736us/step - loss: 0.1721 - acc: 0.9549 - val_loss: 2.3572 - val_acc: 0.7253\n",
            "Epoch 53/100\n",
            "8000/8000 [==============================] - 6s 738us/step - loss: 0.1677 - acc: 0.9551 - val_loss: 2.3706 - val_acc: 0.7243\n",
            "Epoch 54/100\n",
            "8000/8000 [==============================] - 6s 735us/step - loss: 0.1641 - acc: 0.9556 - val_loss: 2.3717 - val_acc: 0.7231\n",
            "Epoch 55/100\n",
            "8000/8000 [==============================] - 6s 738us/step - loss: 0.1602 - acc: 0.9553 - val_loss: 2.3916 - val_acc: 0.7246\n",
            "Epoch 56/100\n",
            "8000/8000 [==============================] - 6s 738us/step - loss: 0.1569 - acc: 0.9555 - val_loss: 2.3877 - val_acc: 0.7254\n",
            "Epoch 57/100\n",
            "8000/8000 [==============================] - 6s 743us/step - loss: 0.1535 - acc: 0.9556 - val_loss: 2.4087 - val_acc: 0.7236\n",
            "Epoch 58/100\n",
            "8000/8000 [==============================] - 6s 790us/step - loss: 0.1502 - acc: 0.9557 - val_loss: 2.4020 - val_acc: 0.7236\n",
            "Epoch 59/100\n",
            "8000/8000 [==============================] - 6s 762us/step - loss: 0.1474 - acc: 0.9556 - val_loss: 2.3897 - val_acc: 0.7226\n",
            "Epoch 60/100\n",
            "8000/8000 [==============================] - 6s 740us/step - loss: 0.1454 - acc: 0.9559 - val_loss: 2.4105 - val_acc: 0.7229\n",
            "Epoch 61/100\n",
            "8000/8000 [==============================] - 6s 740us/step - loss: 0.1419 - acc: 0.9562 - val_loss: 2.4201 - val_acc: 0.7247\n",
            "Epoch 62/100\n",
            "8000/8000 [==============================] - 6s 742us/step - loss: 0.1398 - acc: 0.9561 - val_loss: 2.4222 - val_acc: 0.7244\n",
            "Epoch 63/100\n",
            "8000/8000 [==============================] - 6s 745us/step - loss: 0.1370 - acc: 0.9563 - val_loss: 2.4203 - val_acc: 0.7228\n",
            "Epoch 64/100\n",
            "8000/8000 [==============================] - 6s 740us/step - loss: 0.1342 - acc: 0.9562 - val_loss: 2.4377 - val_acc: 0.7225\n",
            "Epoch 65/100\n",
            "8000/8000 [==============================] - 6s 741us/step - loss: 0.1317 - acc: 0.9563 - val_loss: 2.4509 - val_acc: 0.7244\n",
            "Epoch 66/100\n",
            "8000/8000 [==============================] - 6s 743us/step - loss: 0.1300 - acc: 0.9563 - val_loss: 2.4501 - val_acc: 0.7221\n",
            "Epoch 67/100\n",
            "8000/8000 [==============================] - 6s 736us/step - loss: 0.1280 - acc: 0.9563 - val_loss: 2.4628 - val_acc: 0.7224\n",
            "Epoch 68/100\n",
            "8000/8000 [==============================] - 6s 742us/step - loss: 0.1260 - acc: 0.9556 - val_loss: 2.4652 - val_acc: 0.7250\n",
            "Epoch 69/100\n",
            "8000/8000 [==============================] - 6s 759us/step - loss: 0.1247 - acc: 0.9558 - val_loss: 2.4784 - val_acc: 0.7234\n",
            "Epoch 70/100\n",
            "8000/8000 [==============================] - 7s 814us/step - loss: 0.1228 - acc: 0.9567 - val_loss: 2.4833 - val_acc: 0.7231\n",
            "Epoch 71/100\n",
            "8000/8000 [==============================] - 6s 797us/step - loss: 0.1222 - acc: 0.9558 - val_loss: 2.4896 - val_acc: 0.7223\n",
            "Epoch 72/100\n",
            "8000/8000 [==============================] - 6s 783us/step - loss: 0.1207 - acc: 0.9556 - val_loss: 2.5083 - val_acc: 0.7227\n",
            "Epoch 73/100\n",
            "8000/8000 [==============================] - 6s 741us/step - loss: 0.1196 - acc: 0.9557 - val_loss: 2.4974 - val_acc: 0.7233\n",
            "Epoch 74/100\n",
            "8000/8000 [==============================] - 6s 744us/step - loss: 0.1181 - acc: 0.9562 - val_loss: 2.5181 - val_acc: 0.7225\n",
            "Epoch 75/100\n",
            "8000/8000 [==============================] - 6s 747us/step - loss: 0.1165 - acc: 0.9558 - val_loss: 2.5029 - val_acc: 0.7228\n",
            "Epoch 76/100\n",
            "8000/8000 [==============================] - 6s 737us/step - loss: 0.1158 - acc: 0.9558 - val_loss: 2.4990 - val_acc: 0.7233\n",
            "Epoch 77/100\n",
            "8000/8000 [==============================] - 6s 749us/step - loss: 0.1148 - acc: 0.9560 - val_loss: 2.5169 - val_acc: 0.7236\n",
            "Epoch 78/100\n",
            "8000/8000 [==============================] - 6s 787us/step - loss: 0.1146 - acc: 0.9557 - val_loss: 2.5514 - val_acc: 0.7216\n",
            "Epoch 79/100\n",
            "8000/8000 [==============================] - 6s 745us/step - loss: 0.1133 - acc: 0.9555 - val_loss: 2.5300 - val_acc: 0.7235\n",
            "Epoch 80/100\n",
            "8000/8000 [==============================] - 6s 742us/step - loss: 0.1121 - acc: 0.9559 - val_loss: 2.5257 - val_acc: 0.7221\n",
            "Epoch 81/100\n",
            "8000/8000 [==============================] - 6s 739us/step - loss: 0.1116 - acc: 0.9557 - val_loss: 2.5402 - val_acc: 0.7223\n",
            "Epoch 82/100\n",
            "8000/8000 [==============================] - 6s 739us/step - loss: 0.1112 - acc: 0.9556 - val_loss: 2.5224 - val_acc: 0.7238\n",
            "Epoch 83/100\n",
            "8000/8000 [==============================] - 6s 736us/step - loss: 0.1105 - acc: 0.9558 - val_loss: 2.5357 - val_acc: 0.7231\n",
            "Epoch 84/100\n",
            "8000/8000 [==============================] - 6s 761us/step - loss: 0.1091 - acc: 0.9555 - val_loss: 2.5663 - val_acc: 0.7228\n",
            "Epoch 85/100\n",
            "8000/8000 [==============================] - 6s 795us/step - loss: 0.1083 - acc: 0.9556 - val_loss: 2.5532 - val_acc: 0.7238\n",
            "Epoch 86/100\n",
            "8000/8000 [==============================] - 6s 755us/step - loss: 0.1080 - acc: 0.9557 - val_loss: 2.5443 - val_acc: 0.7231\n",
            "Epoch 87/100\n",
            "8000/8000 [==============================] - 6s 732us/step - loss: 0.1076 - acc: 0.9556 - val_loss: 2.5557 - val_acc: 0.7241\n",
            "Epoch 88/100\n",
            "8000/8000 [==============================] - 6s 728us/step - loss: 0.1068 - acc: 0.9556 - val_loss: 2.5530 - val_acc: 0.7233\n",
            "Epoch 89/100\n",
            "8000/8000 [==============================] - 6s 741us/step - loss: 0.1067 - acc: 0.9558 - val_loss: 2.5610 - val_acc: 0.7227\n",
            "Epoch 90/100\n",
            "8000/8000 [==============================] - 6s 737us/step - loss: 0.1065 - acc: 0.9555 - val_loss: 2.5675 - val_acc: 0.7226\n",
            "Epoch 91/100\n",
            "8000/8000 [==============================] - 6s 741us/step - loss: 0.1056 - acc: 0.9550 - val_loss: 2.5883 - val_acc: 0.7241\n",
            "Epoch 92/100\n",
            "8000/8000 [==============================] - 6s 736us/step - loss: 0.1046 - acc: 0.9552 - val_loss: 2.5785 - val_acc: 0.7228\n",
            "Epoch 93/100\n",
            "8000/8000 [==============================] - 6s 745us/step - loss: 0.1037 - acc: 0.9554 - val_loss: 2.5765 - val_acc: 0.7229\n",
            "Epoch 94/100\n",
            "8000/8000 [==============================] - 6s 739us/step - loss: 0.1032 - acc: 0.9554 - val_loss: 2.5929 - val_acc: 0.7231\n",
            "Epoch 95/100\n",
            "8000/8000 [==============================] - 6s 739us/step - loss: 0.1031 - acc: 0.9557 - val_loss: 2.5865 - val_acc: 0.7229\n",
            "Epoch 96/100\n",
            "8000/8000 [==============================] - 6s 744us/step - loss: 0.1023 - acc: 0.9552 - val_loss: 2.5842 - val_acc: 0.7245\n",
            "Epoch 97/100\n",
            "8000/8000 [==============================] - 6s 738us/step - loss: 0.1021 - acc: 0.9551 - val_loss: 2.6157 - val_acc: 0.7228\n",
            "Epoch 98/100\n",
            "8000/8000 [==============================] - 6s 795us/step - loss: 0.1017 - acc: 0.9559 - val_loss: 2.5768 - val_acc: 0.7251\n",
            "Epoch 99/100\n",
            "8000/8000 [==============================] - 6s 770us/step - loss: 0.1007 - acc: 0.9557 - val_loss: 2.6000 - val_acc: 0.7232\n",
            "Epoch 100/100\n",
            "8000/8000 [==============================] - 6s 736us/step - loss: 0.1012 - acc: 0.9554 - val_loss: 2.6241 - val_acc: 0.7217\n"
          ],
          "name": "stdout"
        },
        {
          "output_type": "display_data",
          "data": {
            "image/png": "[encoded data removed]",
            "text/plain": [
              "<Figure size 432x288 with 1 Axes>"
            ]
          },
          "metadata": {
            "tags": []
          }
        },
        {
          "output_type": "display_data",
          "data": {
            "image/png": "[encoded data removed]",
            "text/plain": [
              "<Figure size 432x288 with 1 Axes>"
            ]
          },
          "metadata": {
            "tags": []
          }
        },
        {
          "output_type": "stream",
          "text": [
            "/usr/local/lib/python3.6/dist-packages/keras/engine/network.py:877: UserWarning: Layer lstm_2 was passed non-serializable keyword arguments: {'initial_state': [<tf.Tensor 'lstm_1/while/Exit_3:0' shape=(?, 256) dtype=float32>, <tf.Tensor 'lstm_1/while/Exit_4:0' shape=(?, 256) dtype=float32>]}. They will not be included in the serialized model (and thus will be missing at deserialization time).\n",
            "  '. They will not be included '\n"
          ],
          "name": "stderr"
        },
        {
          "output_type": "stream",
          "text": [
            "-\n",
            "Input: You survived.\n",
            "Translation: ustedes sobrevivieron.\n",
            "Continue? [Y/n]y\n",
            "-\n",
            "Input: Be vigilant.\n",
            "Translation: estate vigilante.\n",
            "Continue? [Y/n]y\n",
            "-\n",
            "Input: You seem busy.\n",
            "Translation: pareces ocupada.\n",
            "Continue? [Y/n]y\n",
            "-\n",
            "Input: Meet me at 2:30.\n",
            "Translation: las hágalo y y en él no es?\n",
            "Continue? [Y/n]y\n",
            "-\n",
            "Input: Give me a day.\n",
            "Translation: dame un día.\n",
            "Continue? [Y/n]n\n"
          ],
          "name": "stdout"
        }
      ]
    }
  ]
}