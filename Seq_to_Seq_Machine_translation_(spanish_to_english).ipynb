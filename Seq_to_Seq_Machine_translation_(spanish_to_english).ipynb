{
  "nbformat": 4,
  "nbformat_minor": 0,
  "metadata": {
    "colab": {
      "name": "Seq to Seq - Machine translation (spanish to english)",
      "version": "0.3.2",
      "provenance": [],
      "collapsed_sections": []
    },
    "kernelspec": {
      "name": "python3",
      "display_name": "Python 3"
    },
    "accelerator": "GPU"
  },
  "cells": [
    {
      "cell_type": "code",
      "metadata": {
        "id": "HBGUBpBt_51p",
        "colab_type": "code",
        "outputId": "e2bae8fb-9925-43e0-e658-93e29af4d497",
        "colab": {
          "base_uri": "https://localhost:8080/",
          "height": 34
        }
      },
      "source": [
        "from google.colab import drive\n",
        "drive.mount('/content/gdrive')"
      ],
      "execution_count": 0,
      "outputs": [
        {
          "output_type": "stream",
          "text": [
            "Drive already mounted at /content/gdrive; to attempt to forcibly remount, call drive.mount(\"/content/gdrive\", force_remount=True).\n"
          ],
          "name": "stdout"
        }
      ]
    },
    {
      "cell_type": "code",
      "metadata": {
        "id": "KLpSGgPoxJ2Q",
        "colab_type": "code",
        "outputId": "cee10ad2-4fe7-4b50-c66a-4b1e41b85760",
        "colab": {
          "base_uri": "https://localhost:8080/",
          "height": 34
        }
      },
      "source": [
        "import os, sys\n",
        "from keras.models import Model\n",
        "from keras.layers import Input, LSTM, GRU, Dense, Embedding\n",
        "from keras.preprocessing.text import Tokenizer\n",
        "from keras.preprocessing.sequence import pad_sequences\n",
        "from keras.utils import to_categorical\n",
        "import numpy as np\n",
        "import matplotlib.pyplot as plt\n"
      ],
      "execution_count": 0,
      "outputs": [
        {
          "output_type": "stream",
          "text": [
            "Using TensorFlow backend.\n"
          ],
          "name": "stderr"
        }
      ]
    },
    {
      "cell_type": "code",
      "metadata": {
        "id": "y003cAXXzIPO",
        "colab_type": "code",
        "outputId": "00cd3581-00ab-417b-cd01-01c4574b6a7f",
        "colab": {
          "base_uri": "https://localhost:8080/",
          "height": 68
        }
      },
      "source": [
        "##### CREATING INPUT AND OUTPUT DATA FOR THE TRANSLATION PROCESS\n",
        "\n",
        "TRANSLATION_FILE_PATH = '/content/gdrive/My Drive/NLP project/spa.txt'\n",
        "GLOVE_PATH = '/content/gdrive/My Drive/NLP project/glove.6B/glove.6B.100d.txt'\n",
        "MODEL_SAVE_PATH = '/content/gdrive/My Drive/NLP project/'\n",
        "\n",
        "# some config\n",
        "BATCH_SIZE = 64  # Batch size for training.\n",
        "EPOCHS = 20  # Number of epochs to train for.\n",
        "LATENT_DIM = 256  # Latent dimensionality of the encoding space.\n",
        "NUM_OF_LINES = 15000  # Number of lines to train on.\n",
        "MAX_SEQUENCE_LENGTH = 100\n",
        "MAX_NUM_WORDS = 20000\n",
        "EMBEDDING_DIM = 100\n",
        "\n",
        "def load_data(TRANSLATION_FILE_PATH,NUM_OF_LINES):\n",
        "  input_data = [] # sentence in original language\n",
        "  target_text_outputs = [] # sentence in target language\n",
        "  target_texts_inputs = [] # sentence in target language offset by 1\n",
        "\n",
        "  count = 0\n",
        "  for line in open(TRANSLATION_FILE_PATH):\n",
        "\n",
        "    count += 1\n",
        "    if count > NUM_OF_LINES:\n",
        "      break\n",
        "\n",
        "    input_language, translated_language = line.rstrip().split('\\t')\n",
        "\n",
        "    target_text_output = translated_language + ' <eos>'\n",
        "    target_text_input = '<sos> ' + translated_language\n",
        "\n",
        "    input_data.append(input_language)\n",
        "    target_text_outputs.append(target_text_output)\n",
        "    target_texts_inputs.append(target_text_input)\n",
        " \n",
        "  return (input_data,target_text_outputs,target_texts_inputs)\n",
        "\n",
        "\n",
        "#### loading the data into input,target_input\n",
        "\n",
        "input_texts,target_texts,target_texts_inputs = load_data(TRANSLATION_FILE_PATH, NUM_OF_LINES)\n",
        "\n",
        "print(\"The input data length = {}\".format(len(input_texts)))\n",
        "\n",
        "print(\"The target data length = {}\".format(len(target_texts)))\n",
        "\n",
        "print(\"The input data length ( input ) = {}\".format(len(target_texts_inputs)))"
      ],
      "execution_count": 0,
      "outputs": [
        {
          "output_type": "stream",
          "text": [
            "The input data length = 15000\n",
            "The target data length = 15000\n",
            "The input data length ( input ) = 15000\n"
          ],
          "name": "stdout"
        }
      ]
    },
    {
      "cell_type": "code",
      "metadata": {
        "id": "DIVvteSSonpe",
        "colab_type": "code",
        "outputId": "b21d2384-c2e3-4238-bce0-aea3a743bbca",
        "colab": {
          "base_uri": "https://localhost:8080/",
          "height": 68
        }
      },
      "source": [
        "#### tokenize input and output\n",
        "\n",
        "def tokenize_input(input_texts):\n",
        "  \n",
        "  tokenizer_inputs = Tokenizer()\n",
        "  tokenizer_inputs.fit_on_texts(input_texts)\n",
        "  input_sequences = tokenizer_inputs.texts_to_sequences(input_texts)\n",
        "\n",
        "  # get the word to index mapping for input language\n",
        "  word_input_dict = tokenizer_inputs.word_index\n",
        "  print('Found {} unique input tokens.'.format(len(word_input_dict)))\n",
        "\n",
        "  # determine maximum length input sequence\n",
        "\n",
        "  max_len_input = max(len(each_line) for each_line in input_sequences)\n",
        "  print(\"The max input length is {}\".format(max_len_input))\n",
        "  \n",
        "  return (input_sequences,word_input_dict,max_len_input)\n",
        "\n",
        "\n",
        "def tokenize_output(target_texts,target_texts_inputs):\n",
        "\n",
        "  tokenizer_outputs = Tokenizer(filters='')\n",
        "  tokenizer_outputs.fit_on_texts(target_texts + target_texts_inputs) # inefficient, oh well\n",
        "  target_sequences = tokenizer_outputs.texts_to_sequences(target_texts)\n",
        "  target_sequences_inputs = tokenizer_outputs.texts_to_sequences(target_texts_inputs)\n",
        "  \n",
        "  \n",
        "  word_output_dict = tokenizer_outputs.word_index\n",
        "  print('Found {} unique output tokens.'.format(len(word_output_dict)))\n",
        "                                             \n",
        "  #  adding 1 since indexing starts at 1\n",
        "  num_words_output = len(word_output_dict) + 1\n",
        "\n",
        "# determine maximum length output sequence\n",
        "  max_len_target = max(len(s) for s in target_sequences)\n",
        "  \n",
        "  return (target_sequences,target_sequences_inputs, word_output_dict,max_len_target,num_words_output)\n",
        "\n",
        "\n",
        "#### Tokenizing by calling the above functions\n",
        "\n",
        "input_sequences,word_input_dict,max_len_input = tokenize_input(input_texts)\n",
        "target_sequences,target_sequences_inputs, word_output_dict,max_len_target,num_words_output = tokenize_output(target_texts,target_texts_inputs)\n"
      ],
      "execution_count": 0,
      "outputs": [
        {
          "output_type": "stream",
          "text": [
            "Found 3179 unique input tokens.\n",
            "The max input length is 6\n",
            "Found 8514 unique output tokens.\n"
          ],
          "name": "stdout"
        }
      ]
    },
    {
      "cell_type": "code",
      "metadata": {
        "id": "n_gcrFbFtZJP",
        "colab_type": "code",
        "outputId": "d78ceadd-b03e-4af4-85c9-97830828061f",
        "colab": {
          "base_uri": "https://localhost:8080/",
          "height": 34
        }
      },
      "source": [
        "# padding for encoder_inputs , decoder_inputs, and decoder_targets\n",
        "\n",
        "encoder_inputs = pad_sequences(input_sequences, maxlen=max_len_input)\n",
        "\n",
        "decoder_inputs = pad_sequences(target_sequences_inputs, maxlen=max_len_target, padding='post')\n",
        "\n",
        "decoder_targets = pad_sequences(target_sequences, maxlen=max_len_target, padding='post')\n",
        "\n",
        "print(\"The shapes of encoder, decorder_input, and decoder_target are {}, {}, {}\".format(encoder_inputs.shape,decoder_inputs.shape, decoder_targets.shape))"
      ],
      "execution_count": 0,
      "outputs": [
        {
          "output_type": "stream",
          "text": [
            "The shapes of encoder, decorder_input, and decoder_target are (15000, 6), (15000, 10), (15000, 10)\n"
          ],
          "name": "stdout"
        }
      ]
    },
    {
      "cell_type": "code",
      "metadata": {
        "id": "k-0y8xpOuLCQ",
        "colab_type": "code",
        "outputId": "325b9b68-126f-4e3d-a732-210b0f6e87ab",
        "colab": {
          "base_uri": "https://localhost:8080/",
          "height": 34
        }
      },
      "source": [
        "# store Glove pretrained word vec\n",
        "\n",
        "def load_glove(PATH):\n",
        "  glove = {}\n",
        "  with open(os.path.join(PATH)) as f:\n",
        "\n",
        "    for line in f:\n",
        "      values = line.split()\n",
        "      word = values[0]\n",
        "      vec = np.asarray(values[1:], dtype='float32')\n",
        "      glove[word] = vec\n",
        "\n",
        "  print(\"Total size of words in glove = {}\".format(len(glove)))\n",
        "  return glove\n",
        "        \n",
        "# creating glove \n",
        "glove = load_glove(GLOVE_PATH)\n",
        "        "
      ],
      "execution_count": 0,
      "outputs": [
        {
          "output_type": "stream",
          "text": [
            "Total size of words in glove = 400000\n"
          ],
          "name": "stdout"
        }
      ]
    },
    {
      "cell_type": "code",
      "metadata": {
        "id": "bfjQWim8A3IZ",
        "colab_type": "code",
        "outputId": "59668120-074e-4d84-efaa-1e8ec5d00bfc",
        "colab": {
          "base_uri": "https://localhost:8080/",
          "height": 34
        }
      },
      "source": [
        "#### creating input embedding matrix \n",
        "\n",
        "def embedding_matrix(word_input_dict,MAX_NUM_WORDS) : \n",
        "  \n",
        "  \n",
        "    print('Filling pre-trained embeddings...')\n",
        "    num_words = MAX_NUM_WORDS\n",
        "    embedding_matrix = np.zeros((num_words, EMBEDDING_DIM))\n",
        "    for word, i in word_input_dict.items():\n",
        "      if i < MAX_NUM_WORDS:\n",
        "        embedding_vector = glove.get(word)\n",
        "        if embedding_vector is not None:\n",
        "          embedding_matrix[i] = embedding_vector\n",
        "    return embedding_matrix\n",
        "\n",
        "embedding_matrix = embedding_matrix(word_input_dict,MAX_NUM_WORDS)\n",
        "\n",
        "\n",
        "embedding_layer = Embedding(MAX_NUM_WORDS, EMBEDDING_DIM, weights=[embedding_matrix],input_length=max_len_input )"
      ],
      "execution_count": 0,
      "outputs": [
        {
          "output_type": "stream",
          "text": [
            "Filling pre-trained embeddings...\n"
          ],
          "name": "stdout"
        }
      ]
    },
    {
      "cell_type": "code",
      "metadata": {
        "id": "YVwO52wnahfe",
        "colab_type": "code",
        "colab": {}
      },
      "source": [
        "# create embedding layer\n",
        "# create targets, since we cannot use sparse\n",
        "# categorical cross entropy when we have sequences\n",
        "\n",
        "decoder_targets_one_hot = np.zeros(\n",
        "  (\n",
        "    len(input_texts),\n",
        "    max_len_target,\n",
        "    num_words_output\n",
        "  ),\n",
        "  dtype='float32'\n",
        ")\n",
        "\n",
        "for i, d in enumerate(decoder_targets):\n",
        "  for t, word in enumerate(d):\n",
        "    decoder_targets_one_hot[i, t, word] = 1"
      ],
      "execution_count": 0,
      "outputs": []
    },
    {
      "cell_type": "code",
      "metadata": {
        "id": "MZTLA8OsHH4F",
        "colab_type": "code",
        "outputId": "c0f8cd79-8e11-463c-d1e9-9ac7ee55128d",
        "colab": {
          "base_uri": "https://localhost:8080/",
          "height": 88
        }
      },
      "source": [
        "##### build the model #####\n",
        "encoder_inputs_placeholder = Input(shape=(max_len_input,))\n",
        "\n",
        "x = embedding_layer(encoder_inputs_placeholder)\n",
        "encoder = LSTM(\n",
        "  LATENT_DIM,\n",
        "  return_state=True,\n",
        "  dropout=0.5 # dropout not available on gpu\n",
        ")\n"
      ],
      "execution_count": 0,
      "outputs": [
        {
          "output_type": "stream",
          "text": [
            "WARNING:tensorflow:From /usr/local/lib/python3.6/dist-packages/tensorflow/python/framework/op_def_library.py:263: colocate_with (from tensorflow.python.framework.ops) is deprecated and will be removed in a future version.\n",
            "Instructions for updating:\n",
            "Colocations handled automatically by placer.\n"
          ],
          "name": "stdout"
        }
      ]
    },
    {
      "cell_type": "code",
      "metadata": {
        "id": "9bca6Ub4waic",
        "colab_type": "code",
        "outputId": "581d9f2f-3384-49d9-e110-13d720522a83",
        "colab": {
          "base_uri": "https://localhost:8080/",
          "height": 88
        }
      },
      "source": [
        "\n",
        "encoder_outputs, h, c = encoder(x)\n",
        "# encoder_outputs, h = encoder(x) #gru\n",
        "\n",
        "# we can discard encoder_outputs and keep only the states to pass into decoder\n",
        "encoder_states = [h, c]\n",
        "\n"
      ],
      "execution_count": 0,
      "outputs": [
        {
          "output_type": "stream",
          "text": [
            "WARNING:tensorflow:From /usr/local/lib/python3.6/dist-packages/keras/backend/tensorflow_backend.py:3445: calling dropout (from tensorflow.python.ops.nn_ops) with keep_prob is deprecated and will be removed in a future version.\n",
            "Instructions for updating:\n",
            "Please use `rate` instead of `keep_prob`. Rate should be set to `rate = 1 - keep_prob`.\n"
          ],
          "name": "stdout"
        }
      ]
    },
    {
      "cell_type": "code",
      "metadata": {
        "id": "5D7_iVSsxyyW",
        "colab_type": "code",
        "colab": {}
      },
      "source": [
        "\n",
        "# Set up the decoder, using [h, c] as initial state.\n",
        "decoder_inputs_placeholder = Input(shape=(max_len_target,))\n",
        "\n",
        "# this word embedding will not use pre-trained vectors\n",
        "# although you could\n",
        "decoder_embedding = Embedding(num_words_output, LATENT_DIM)\n",
        "decoder_inputs_x = decoder_embedding(decoder_inputs_placeholder)\n",
        "\n",
        "# since the decoder is a \"to-many\" model we want to have\n",
        "# return_sequences=True\n",
        "decoder_lstm = LSTM(\n",
        "  LATENT_DIM,\n",
        "  return_sequences=True,\n",
        "  return_state=True,\n",
        "  # dropout=0.5 # dropout not available on gpu\n",
        ")\n",
        "decoder_outputs, _, _ = decoder_lstm(\n",
        "  decoder_inputs_x,\n",
        "  initial_state=encoder_states\n",
        ")\n",
        "\n",
        "\n",
        "decoder_dense = Dense(num_words_output, activation='softmax')\n",
        "decoder_outputs = decoder_dense(decoder_outputs)\n"
      ],
      "execution_count": 0,
      "outputs": []
    },
    {
      "cell_type": "code",
      "metadata": {
        "id": "gNuLNHfBU50H",
        "colab_type": "code",
        "outputId": "46c46932-b1c8-47ab-cf7b-907d9ae348fc",
        "colab": {
          "base_uri": "https://localhost:8080/",
          "height": 870
        }
      },
      "source": [
        "#################################################################\n",
        "\n",
        "# Create the model object\n",
        "\n",
        "model = Model([encoder_inputs_placeholder, decoder_inputs_placeholder], decoder_outputs)\n",
        "\n",
        "# Compile the model and train it\n",
        "model.compile(\n",
        "  optimizer='Adam',\n",
        "  loss='categorical_crossentropy',\n",
        "  metrics=['accuracy']\n",
        ")\n",
        "\n",
        "history  = model.fit(\n",
        "  [encoder_inputs, decoder_inputs], decoder_targets_one_hot,\n",
        "  batch_size=BATCH_SIZE,\n",
        "  epochs=EPOCHS,\n",
        "  validation_split=0.2,\n",
        ")\n",
        "\n",
        "# Save model\n",
        "file_path = os.path.join(MODEL_SAVE_PATH, 's2s.h5')\n",
        "model.save(file_path)\n",
        "\n"
      ],
      "execution_count": 0,
      "outputs": [
        {
          "output_type": "stream",
          "text": [
            "WARNING:tensorflow:From /usr/local/lib/python3.6/dist-packages/tensorflow/python/ops/math_ops.py:3066: to_int32 (from tensorflow.python.ops.math_ops) is deprecated and will be removed in a future version.\n",
            "Instructions for updating:\n",
            "Use tf.cast instead.\n",
            "WARNING:tensorflow:From /usr/local/lib/python3.6/dist-packages/tensorflow/python/ops/math_grad.py:102: div (from tensorflow.python.ops.math_ops) is deprecated and will be removed in a future version.\n",
            "Instructions for updating:\n",
            "Deprecated in favor of operator or tf.math.divide.\n",
            "Train on 12000 samples, validate on 3000 samples\n",
            "Epoch 1/20\n",
            "12000/12000 [==============================] - 16s 1ms/step - loss: 2.9250 - acc: 0.6565 - val_loss: 2.7721 - val_acc: 0.6601\n",
            "Epoch 2/20\n",
            "12000/12000 [==============================] - 13s 1ms/step - loss: 2.1609 - acc: 0.7135 - val_loss: 2.6070 - val_acc: 0.6602\n",
            "Epoch 3/20\n",
            "12000/12000 [==============================] - 13s 1ms/step - loss: 1.9688 - acc: 0.7245 - val_loss: 2.4092 - val_acc: 0.6776\n",
            "Epoch 4/20\n",
            "12000/12000 [==============================] - 13s 1ms/step - loss: 1.7857 - acc: 0.7380 - val_loss: 2.2682 - val_acc: 0.6944\n",
            "Epoch 5/20\n",
            "12000/12000 [==============================] - 13s 1ms/step - loss: 1.6240 - acc: 0.7528 - val_loss: 2.1566 - val_acc: 0.7054\n",
            "Epoch 6/20\n",
            "12000/12000 [==============================] - 13s 1ms/step - loss: 1.4860 - acc: 0.7671 - val_loss: 2.0880 - val_acc: 0.7160\n",
            "Epoch 7/20\n",
            "12000/12000 [==============================] - 13s 1ms/step - loss: 1.3630 - acc: 0.7787 - val_loss: 2.0236 - val_acc: 0.7236\n",
            "Epoch 8/20\n",
            "12000/12000 [==============================] - 13s 1ms/step - loss: 1.2538 - acc: 0.7893 - val_loss: 1.9718 - val_acc: 0.7312\n",
            "Epoch 9/20\n",
            "12000/12000 [==============================] - 13s 1ms/step - loss: 1.1520 - acc: 0.7991 - val_loss: 1.9312 - val_acc: 0.7375\n",
            "Epoch 10/20\n",
            "12000/12000 [==============================] - 13s 1ms/step - loss: 1.0558 - acc: 0.8078 - val_loss: 1.9033 - val_acc: 0.7426\n",
            "Epoch 11/20\n",
            "12000/12000 [==============================] - 13s 1ms/step - loss: 0.9678 - acc: 0.8173 - val_loss: 1.8827 - val_acc: 0.7455\n",
            "Epoch 12/20\n",
            "12000/12000 [==============================] - 13s 1ms/step - loss: 0.8859 - acc: 0.8260 - val_loss: 1.8661 - val_acc: 0.7487\n",
            "Epoch 13/20\n",
            "12000/12000 [==============================] - 13s 1ms/step - loss: 0.8124 - acc: 0.8346 - val_loss: 1.8498 - val_acc: 0.7509\n",
            "Epoch 14/20\n",
            "12000/12000 [==============================] - 13s 1ms/step - loss: 0.7442 - acc: 0.8421 - val_loss: 1.8414 - val_acc: 0.7533\n",
            "Epoch 15/20\n",
            "12000/12000 [==============================] - 13s 1ms/step - loss: 0.6814 - acc: 0.8519 - val_loss: 1.8375 - val_acc: 0.7536\n",
            "Epoch 16/20\n",
            "12000/12000 [==============================] - 13s 1ms/step - loss: 0.6256 - acc: 0.8611 - val_loss: 1.8289 - val_acc: 0.7576\n",
            "Epoch 17/20\n",
            "12000/12000 [==============================] - 13s 1ms/step - loss: 0.5731 - acc: 0.8692 - val_loss: 1.8213 - val_acc: 0.7601\n",
            "Epoch 18/20\n",
            "12000/12000 [==============================] - 13s 1ms/step - loss: 0.5292 - acc: 0.8772 - val_loss: 1.8256 - val_acc: 0.7594\n",
            "Epoch 19/20\n",
            "12000/12000 [==============================] - 13s 1ms/step - loss: 0.4864 - acc: 0.8856 - val_loss: 1.8177 - val_acc: 0.7620\n",
            "Epoch 20/20\n",
            "12000/12000 [==============================] - 13s 1ms/step - loss: 0.4485 - acc: 0.8937 - val_loss: 1.8359 - val_acc: 0.7584\n"
          ],
          "name": "stdout"
        },
        {
          "output_type": "stream",
          "text": [
            "/usr/local/lib/python3.6/dist-packages/keras/engine/network.py:877: UserWarning: Layer lstm_2 was passed non-serializable keyword arguments: {'initial_state': [<tf.Tensor 'lstm_1/while/Exit_3:0' shape=(?, 256) dtype=float32>, <tf.Tensor 'lstm_1/while/Exit_4:0' shape=(?, 256) dtype=float32>]}. They will not be included in the serialized model (and thus will be missing at deserialization time).\n",
            "  '. They will not be included '\n"
          ],
          "name": "stderr"
        }
      ]
    },
    {
      "cell_type": "code",
      "metadata": {
        "id": "LcPgS2FMVseY",
        "colab_type": "code",
        "outputId": "66febe3e-912e-428c-f34b-cf5a871e4922",
        "colab": {
          "base_uri": "https://localhost:8080/",
          "height": 573
        }
      },
      "source": [
        "# summarize history for accuracy\n",
        "plt.plot(history.history['acc'])\n",
        "plt.plot(history.history['val_acc'])\n",
        "plt.title('model accuracy')\n",
        "plt.ylabel('accuracy')\n",
        "plt.xlabel('epoch')\n",
        "plt.legend(['train', 'val'], loc='upper left')\n",
        "plt.show()\n",
        "\n",
        "# summarize history for loss\n",
        "plt.plot(history.history['loss'])\n",
        "plt.plot(history.history['val_loss'])\n",
        "plt.title('model loss')\n",
        "plt.ylabel('loss')\n",
        "plt.xlabel('epoch')\n",
        "plt.legend(['train', 'val'], loc='upper left')\n",
        "plt.show()\n"
      ],
      "execution_count": 0,
      "outputs": [
        {
          "output_type": "display_data",
          "data": {
            "image/png": "[encoded data removed]",
            "text/plain": [
              "<Figure size 432x288 with 1 Axes>"
            ]
          },
          "metadata": {
            "tags": []
          }
        },
        {
          "output_type": "display_data",
          "data": {
            "image/png": "[encoded data removed]",
            "text/plain": [
              "<Figure size 432x288 with 1 Axes>"
            ]
          },
          "metadata": {
            "tags": []
          }
        }
      ]
    },
    {
      "cell_type": "code",
      "metadata": {
        "id": "zyFjl28F6hYU",
        "colab_type": "code",
        "outputId": "80564249-cd68-485d-abd6-bb0decf4bdaa",
        "colab": {
          "base_uri": "https://localhost:8080/",
          "height": 697
        }
      },
      "source": [
        "\n",
        "##########################################\n",
        "# creating another decoder for predictions\n",
        "\n",
        "encoder_model = Model(encoder_inputs_placeholder, encoder_states)\n",
        "\n",
        "decoder_state_input_h = Input(shape=(LATENT_DIM,))\n",
        "\n",
        "decoder_state_input_c = Input(shape=(LATENT_DIM,))\n",
        "\n",
        "decoder_states_inputs = [decoder_state_input_h, decoder_state_input_c]\n",
        "\n",
        "# decoder_states_inputs = [decoder_state_input_h] # gru\n",
        "\n",
        "decoder_inputs_single = Input(shape=(1,))\n",
        "\n",
        "decoder_inputs_single_x = decoder_embedding(decoder_inputs_single)\n",
        "\n",
        "\n",
        "# this time, we want to keep the states too, to be output\n",
        "# by our sampling model\n",
        "decoder_outputs, h, c = decoder_lstm(\n",
        "  decoder_inputs_single_x,\n",
        "  initial_state=decoder_states_inputs\n",
        ")\n",
        "# decoder_outputs, state_h = decoder_lstm(\n",
        "#   decoder_inputs_single_x,\n",
        "#   initial_state=decoder_states_inputs\n",
        "# ) #gru\n",
        "decoder_states = [h, c]\n",
        "# decoder_states = [h] # gru\n",
        "decoder_outputs = decoder_dense(decoder_outputs)\n",
        "\n",
        "# The sampling model\n",
        "# inputs: y(t-1), h(t-1), c(t-1)\n",
        "# outputs: y(t), h(t), c(t)\n",
        "decoder_model = Model(\n",
        "  [decoder_inputs_single] + decoder_states_inputs, \n",
        "  [decoder_outputs] + decoder_states\n",
        ")\n",
        "\n",
        "# map indexes back into real words\n",
        "# so we can view the results\n",
        "idx2word_eng = {v:k for k, v in word_input_dict.items()}\n",
        "idx2word_trans = {v:k for k, v in word_output_dict.items()}\n",
        "\n",
        "\n",
        "def decode_sequence(input_seq):\n",
        "  # Encode the input as state vectors.\n",
        "  states_value = encoder_model.predict(input_seq)\n",
        "\n",
        "  # Generate empty target sequence of length 1.\n",
        "  target_seq = np.zeros((1, 1))\n",
        "\n",
        "  # Populate the first character of target sequence with the start character.\n",
        "  # NOTE: tokenizer lower-cases all words\n",
        "  target_seq[0, 0] = word_output_dict['<sos>']\n",
        "\n",
        "  # if we get this we break\n",
        "  eos = word_output_dict['<eos>']\n",
        "\n",
        "  # Create the translation\n",
        "  output_sentence = []\n",
        "  for _ in range(max_len_target):\n",
        "    output_tokens, h, c = decoder_model.predict(\n",
        "      [target_seq] + states_value\n",
        "    )\n",
        "    # output_tokens, h = decoder_model.predict(\n",
        "    #     [target_seq] + states_value\n",
        "    # ) # gru\n",
        "\n",
        "    # Get next word\n",
        "    idx = np.argmax(output_tokens[0, 0, :])\n",
        "\n",
        "    # End sentence of EOS\n",
        "    if eos == idx:\n",
        "      break\n",
        "\n",
        "    word = ''\n",
        "    if idx > 0:\n",
        "      word = idx2word_trans[idx]\n",
        "      output_sentence.append(word)\n",
        "\n",
        "    # Update the decoder input\n",
        "    # which is just the word just generated\n",
        "    target_seq[0, 0] = idx\n",
        "\n",
        "    # Update states\n",
        "    states_value = [h, c]\n",
        "    # states_value = [h] # gru\n",
        "\n",
        "  return ' '.join(output_sentence)\n",
        "\n",
        "\n",
        "while True:\n",
        "  # Do some test translations\n",
        "  ###########################\n",
        "  i = np.random.choice(len(input_texts))\n",
        "  input_seq = encoder_inputs[i:i+1]\n",
        "  translation = decode_sequence(input_seq)\n",
        "  print('-')\n",
        "  print('Input:', input_texts[i])\n",
        "  print('Translation:', translation)\n",
        "\n",
        "  ans = input(\"Continue? [Y/n]\")\n",
        "  if ans and ans.lower().startswith('n'):\n",
        "    break\n",
        "\n"
      ],
      "execution_count": 0,
      "outputs": [
        {
          "output_type": "stream",
          "text": [
            "-\n",
            "Input: It's worth it.\n",
            "Translation: es la hecho.\n",
            "Continue? [Y/n]y\n",
            "-\n",
            "Input: I paid my bills.\n",
            "Translation: pagué mis cuentas.\n",
            "Continue? [Y/n]y\n",
            "-\n",
            "Input: Do you like music?\n",
            "Translation: ¿te gusta el té?\n",
            "Continue? [Y/n]y\n",
            "-\n",
            "Input: The well is dry.\n",
            "Translation: el pozo está seco.\n",
            "Continue? [Y/n]y\n",
            "-\n",
            "Input: Love lasts.\n",
            "Translation: el amor dura.\n",
            "Continue? [Y/n]y\n",
            "-\n",
            "Input: Tom likes cheese.\n",
            "Translation: a tom le gusta el jazz.\n",
            "Continue? [Y/n]y\n",
            "-\n",
            "Input: Tom is guilty.\n",
            "Translation: tom es culpable.\n",
            "Continue? [Y/n]y\n",
            "-\n",
            "Input: Stop arguing.\n",
            "Translation: deja de preocuparte.\n",
            "Continue? [Y/n]y\n",
            "-\n",
            "Input: I eat bread.\n",
            "Translation: yo disfruto jugar póker.\n",
            "Continue? [Y/n]y\n",
            "-\n",
            "Input: You got hit hard.\n",
            "Translation: me veo una mano.\n",
            "Continue? [Y/n]n\n"
          ],
          "name": "stdout"
        }
      ]
    }
  ]
}