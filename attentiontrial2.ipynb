{
  "nbformat": 4,
  "nbformat_minor": 0,
  "metadata": {
    "colab": {
      "name": "attentiontrial.ipynb",
      "version": "0.3.2",
      "provenance": [],
      "collapsed_sections": []
    },
    "language_info": {
      "codemirror_mode": {
        "name": "ipython",
        "version": 3
      },
      "file_extension": ".py",
      "mimetype": "text/x-python",
      "name": "python",
      "nbconvert_exporter": "python",
      "pygments_lexer": "ipython3",
      "version": "3.7.1"
    },
    "kernelspec": {
      "name": "python3",
      "display_name": "Python 3"
    },
    "accelerator": "GPU"
  },
  "cells": [
    {
      "cell_type": "code",
      "metadata": {
        "id": "jiZL1gRvrDGA",
        "colab_type": "code",
        "colab": {
          "base_uri": "https://localhost:8080/",
          "height": 34
        },
        "outputId": "2fbc0c3b-ec25-4b83-dba9-977fc7cb55d7"
      },
      "source": [
        "from google.colab import drive\n",
        "drive.mount('/content/gdrive')"
      ],
      "execution_count": 1,
      "outputs": [
        {
          "output_type": "stream",
          "text": [
            "Drive already mounted at /content/gdrive; to attempt to forcibly remount, call drive.mount(\"/content/gdrive\", force_remount=True).\n"
          ],
          "name": "stdout"
        }
      ]
    },
    {
      "cell_type": "code",
      "metadata": {
        "id": "7uH1Wg1BrDGF",
        "colab_type": "code",
        "colab": {
          "base_uri": "https://localhost:8080/",
          "height": 34
        },
        "outputId": "a98c3a58-2afc-4e3e-eb4a-91fe0058cdb0"
      },
      "source": [
        "# https://deeplearningcourses.com/c/deep-learning-advanced-nlp\n",
        "from __future__ import print_function, division\n",
        "from builtins import range, input\n",
        "# Note: you may need to update your version of future\n",
        "# sudo pip install -U future\n",
        "\n",
        "import os\n",
        "import sys\n",
        "\n",
        "from keras.models import Model\n",
        "from keras.layers import Input, LSTM, GRU, Dense, Embedding, \\\n",
        "    Bidirectional, RepeatVector, Concatenate, Activation, Dot, Lambda\n",
        "from keras.preprocessing.text import Tokenizer\n",
        "from keras.preprocessing.sequence import pad_sequences\n",
        "import keras.backend as K\n",
        "\n",
        "import numpy as np\n",
        "import matplotlib.pyplot as plt\n",
        "\n",
        "if len(K.tensorflow_backend._get_available_gpus()) > 0:\n",
        "  from keras.layers import CuDNNLSTM as LSTM\n",
        "  from keras.layers import CuDNNGRU as GRU\n"
      ],
      "execution_count": 2,
      "outputs": [
        {
          "output_type": "stream",
          "text": [
            "Using TensorFlow backend.\n"
          ],
          "name": "stderr"
        }
      ]
    },
    {
      "cell_type": "code",
      "metadata": {
        "id": "e1ExFsN5rDGI",
        "colab_type": "code",
        "colab": {}
      },
      "source": [
        "# make sure we do softmax over the time axis\n",
        "# expected shape is N x T x D\n",
        "# note: the latest version of Keras allows you to pass in axis arg\n",
        "def softmax_over_time(x):\n",
        "  assert(K.ndim(x) > 2)\n",
        "  e = K.exp(x - K.max(x, axis=1, keepdims=True))\n",
        "  s = K.sum(e, axis=1, keepdims=True)\n",
        "  return e / s\n"
      ],
      "execution_count": 0,
      "outputs": []
    },
    {
      "cell_type": "code",
      "metadata": {
        "id": "gqQRB8g2rDGK",
        "colab_type": "code",
        "colab": {}
      },
      "source": [
        "##### CREATING INPUT AND OUTPUT DATA FOR THE TRANSLATION PROCESS\n",
        "\n",
        "TRANSLATION_FILE_PATH = '/content/gdrive/My Drive/NLP project/spa.txt'\n",
        "GLOVE_PATH = '/content/gdrive/My Drive/NLP project/glove.6B/glove.6B.100d.txt'\n",
        "MODEL_SAVE_PATH = '/content/gdrive/My Drive/NLP project/'\n",
        "\n",
        "# config\n",
        "BATCH_SIZE = 64\n",
        "EPOCHS = 15\n",
        "LATENT_DIM = 256\n",
        "LATENT_DIM_DECODER = 256  # idea: make it different to ensure things all fit together properly!\n",
        "NUM_SAMPLES = 15000\n",
        "MAX_SEQUENCE_LENGTH = 100\n",
        "MAX_NUM_WORDS = 20000\n",
        "EMBEDDING_DIM = 100"
      ],
      "execution_count": 0,
      "outputs": []
    },
    {
      "cell_type": "code",
      "metadata": {
        "id": "U8HvJPf4rDGM",
        "colab_type": "code",
        "colab": {}
      },
      "source": [
        "def load_data(TRANSLATION_FILE_PATH,NUM_SAMPLES):    \n",
        "    # Where we will store the data\n",
        "    input_texts = []  # sentence in original language\n",
        "    target_texts = []  # sentence in target language\n",
        "    target_texts_inputs = []  # sentence in target language offset by 1\n",
        "\n",
        "    # load in the data\n",
        "    # download the data at: http://www.manythings.org/anki/\n",
        "    t = 0\n",
        "    for line in open(TRANSLATION_FILE_PATH):\n",
        "      # only keep a limited number of samples\n",
        "      t += 1\n",
        "      if t > NUM_SAMPLES:\n",
        "        break\n",
        "\n",
        "      # input and target are separated by tab\n",
        "      if '\\t' not in line:\n",
        "        continue\n",
        "\n",
        "      # split up the input and translation\n",
        "      input_text, translation = line.rstrip().split('\\t')\n",
        "\n",
        "      # make the target input and output\n",
        "      # recall we'll be using teacher forcing\n",
        "      target_text = translation + ' <eos>'\n",
        "      target_text_input = '<sos> ' + translation\n",
        "\n",
        "      input_texts.append(input_text)\n",
        "      target_texts.append(target_text)\n",
        "      target_texts_inputs.append(target_text_input)\n",
        "    return (input_texts,target_texts,target_texts_inputs)\n",
        "  \n",
        "input_texts,target_texts,target_texts_inputs = load_data(TRANSLATION_FILE_PATH, NUM_SAMPLES)"
      ],
      "execution_count": 0,
      "outputs": []
    },
    {
      "cell_type": "code",
      "metadata": {
        "id": "AtUH6MU_rDGO",
        "colab_type": "code",
        "colab": {
          "base_uri": "https://localhost:8080/",
          "height": 119
        },
        "outputId": "67f8fd33-b097-4cc0-91e8-c8fba69e25ad"
      },
      "source": [
        "# tokenize the inputs\n",
        "tokenizer_inputs = Tokenizer(num_words=MAX_NUM_WORDS)\n",
        "tokenizer_inputs.fit_on_texts(input_texts)\n",
        "input_sequences = tokenizer_inputs.texts_to_sequences(input_texts)\n",
        "\n",
        "# get the word to index mapping for input language\n",
        "word2idx_inputs = tokenizer_inputs.word_index\n",
        "print('Found %s unique input tokens.' % len(word2idx_inputs))\n",
        "\n",
        "# determine maximum length input sequence\n",
        "max_len_input = max(len(s) for s in input_sequences)\n",
        "\n",
        "# tokenize the outputs\n",
        "# don't filter out special characters\n",
        "# otherwise <sos> and <eos> won't appear\n",
        "tokenizer_outputs = Tokenizer(num_words=MAX_NUM_WORDS, filters='')\n",
        "tokenizer_outputs.fit_on_texts(target_texts + target_texts_inputs)  # inefficient, oh well\n",
        "target_sequences = tokenizer_outputs.texts_to_sequences(target_texts)\n",
        "target_sequences_inputs = tokenizer_outputs.texts_to_sequences(target_texts_inputs)\n",
        "\n",
        "# get the word to index mapping for output language\n",
        "word2idx_outputs = tokenizer_outputs.word_index\n",
        "print('Found %s unique output tokens.' % len(word2idx_outputs))\n",
        "\n",
        "# store number of output words for later\n",
        "# remember to add 1 since indexing starts at 1\n",
        "num_words_output = len(word2idx_outputs) + 1\n",
        "\n",
        "# determine maximum length output sequence\n",
        "max_len_target = max(len(s) for s in target_sequences)\n",
        "\n",
        "\n",
        "# pad the sequences\n",
        "encoder_inputs = pad_sequences(input_sequences, maxlen=max_len_input)\n",
        "print(\"encoder_data.shape:\", encoder_inputs.shape)\n",
        "print(\"encoder_data[0]:\", encoder_inputs[0])\n",
        "\n",
        "decoder_inputs = pad_sequences(target_sequences_inputs, maxlen=max_len_target, padding='post')\n",
        "print(\"decoder_data[0]:\", decoder_inputs[0])\n",
        "print(\"decoder_data.shape:\", decoder_inputs.shape)\n",
        "\n",
        "decoder_targets = pad_sequences(target_sequences, maxlen=max_len_target, padding='post')"
      ],
      "execution_count": 6,
      "outputs": [
        {
          "output_type": "stream",
          "text": [
            "Found 3179 unique input tokens.\n",
            "Found 8514 unique output tokens.\n",
            "encoder_data.shape: (15000, 6)\n",
            "encoder_data[0]: [ 0  0  0  0  0 20]\n",
            "decoder_data[0]: [   2 2203    0    0    0    0    0    0    0    0]\n",
            "decoder_data.shape: (15000, 10)\n"
          ],
          "name": "stdout"
        }
      ]
    },
    {
      "cell_type": "code",
      "metadata": {
        "id": "6RQCk4eGrDGR",
        "colab_type": "code",
        "colab": {
          "base_uri": "https://localhost:8080/",
          "height": 51
        },
        "outputId": "96f1ae1d-414a-45fb-9a06-8641f807d434"
      },
      "source": [
        "# store all the pre-trained word vectors\n",
        "print('Loading word vectors...')\n",
        "word2vec = {}\n",
        "with open(os.path.join(GLOVE_PATH)) as f:\n",
        "  # is just a space-separated text file in the format:\n",
        "  # word vec[0] vec[1] vec[2] ...\n",
        "  for line in f:\n",
        "    values = line.split()\n",
        "    word = values[0]\n",
        "    vec = np.asarray(values[1:], dtype='float32')\n",
        "    word2vec[word] = vec\n",
        "print('Found %s word vectors.' % len(word2vec))"
      ],
      "execution_count": 7,
      "outputs": [
        {
          "output_type": "stream",
          "text": [
            "Loading word vectors...\n",
            "Found 400000 word vectors.\n"
          ],
          "name": "stdout"
        }
      ]
    },
    {
      "cell_type": "code",
      "metadata": {
        "id": "Oj1syneurDGT",
        "colab_type": "code",
        "colab": {
          "base_uri": "https://localhost:8080/",
          "height": 34
        },
        "outputId": "0a597d4b-6dec-46c9-d8cf-4e4cc795092f"
      },
      "source": [
        "# prepare embedding matrix\n",
        "print('Filling pre-trained embeddings...')\n",
        "num_words = min(MAX_NUM_WORDS, len(word2idx_inputs) + 1)\n",
        "embedding_matrix = np.zeros((num_words, EMBEDDING_DIM))\n",
        "for word, i in word2idx_inputs.items():\n",
        "  if i < MAX_NUM_WORDS:\n",
        "    embedding_vector = word2vec.get(word)\n",
        "    if embedding_vector is not None:\n",
        "      # words not found in embedding index will be all zeros.\n",
        "      embedding_matrix[i] = embedding_vector\n",
        "\n",
        "\n",
        "# create embedding layer\n",
        "embedding_layer = Embedding(\n",
        "    num_words,\n",
        "    EMBEDDING_DIM,\n",
        "    weights=[embedding_matrix],\n",
        "    input_length=max_len_input,\n",
        "    # trainable=True\n",
        ")"
      ],
      "execution_count": 8,
      "outputs": [
        {
          "output_type": "stream",
          "text": [
            "Filling pre-trained embeddings...\n"
          ],
          "name": "stdout"
        }
      ]
    },
    {
      "cell_type": "code",
      "metadata": {
        "id": "inajLxQmrDGW",
        "colab_type": "code",
        "colab": {
          "base_uri": "https://localhost:8080/",
          "height": 88
        },
        "outputId": "79644fe2-23d0-4ee2-aa31-3d212dad5eec"
      },
      "source": [
        "# create targets, since we cannot use sparse\n",
        "# categorical cross entropy when we have sequences\n",
        "decoder_targets_one_hot = np.zeros(\n",
        "    (\n",
        "        len(input_texts),\n",
        "        max_len_target,\n",
        "        num_words_output\n",
        "    ),\n",
        "    dtype='float32'\n",
        ")\n",
        "\n",
        "# assign the values\n",
        "for i, d in enumerate(decoder_targets):\n",
        "  for t, word in enumerate(d):\n",
        "    decoder_targets_one_hot[i, t, word] = 1\n",
        "\n",
        "\n",
        "##### build the model #####\n",
        "\n",
        "# Set up the encoder - simple!\n",
        "encoder_inputs_placeholder = Input(shape=(max_len_input,))\n",
        "x = embedding_layer(encoder_inputs_placeholder)\n",
        "encoder = Bidirectional(LSTM(\n",
        "    LATENT_DIM,\n",
        "    return_sequences=True,\n",
        "    # dropout=0.5 # dropout not available on gpu\n",
        "))\n",
        "encoder_outputs = encoder(x)"
      ],
      "execution_count": 9,
      "outputs": [
        {
          "output_type": "stream",
          "text": [
            "WARNING:tensorflow:From /usr/local/lib/python3.6/dist-packages/tensorflow/python/framework/op_def_library.py:263: colocate_with (from tensorflow.python.framework.ops) is deprecated and will be removed in a future version.\n",
            "Instructions for updating:\n",
            "Colocations handled automatically by placer.\n"
          ],
          "name": "stdout"
        }
      ]
    },
    {
      "cell_type": "code",
      "metadata": {
        "id": "CUt1DJXnrDGZ",
        "colab_type": "code",
        "colab": {}
      },
      "source": [
        "# Set up the decoder - not so simple\n",
        "decoder_inputs_placeholder = Input(shape=(max_len_target,))\n",
        "\n",
        "# this word embedding will not use pre-trained vectors\n",
        "# although you could\n",
        "decoder_embedding = Embedding(num_words_output, EMBEDDING_DIM)\n",
        "decoder_inputs_x = decoder_embedding(decoder_inputs_placeholder)\n",
        "\n",
        "\n",
        "######### Attention #########\n",
        "# Attention layers need to be global because\n",
        "# they will be repeated Ty times at the decoder\n",
        "attn_repeat_layer = RepeatVector(max_len_input)\n",
        "attn_concat_layer = Concatenate(axis=-1)\n",
        "attn_dense1 = Dense(10, activation='tanh')\n",
        "attn_dense2 = Dense(1, activation=softmax_over_time)\n",
        "attn_dot = Dot(axes=1)  # to perform the weighted sum of alpha[t] * h[t]"
      ],
      "execution_count": 0,
      "outputs": []
    },
    {
      "cell_type": "code",
      "metadata": {
        "id": "CqRJpoPerDGc",
        "colab_type": "code",
        "colab": {}
      },
      "source": [
        "def one_step_attention(h, st_1):\n",
        "  # h = h(1), ..., h(Tx), shape = (Tx, LATENT_DIM * 2)\n",
        "  # st_1 = s(t-1), shape = (LATENT_DIM_DECODER,)\n",
        "\n",
        "  # copy s(t-1) Tx times\n",
        "  # now shape = (Tx, LATENT_DIM_DECODER)\n",
        "  st_1 = attn_repeat_layer(st_1)\n",
        "\n",
        "  # Concatenate all h(t)'s with s(t-1)\n",
        "  # Now of shape (Tx, LATENT_DIM_DECODER + LATENT_DIM * 2)\n",
        "  x = attn_concat_layer([h, st_1])\n",
        "\n",
        "  # Neural net first layer\n",
        "  x = attn_dense1(x)\n",
        "\n",
        "  # Neural net second layer with special softmax over time\n",
        "  alphas = attn_dense2(x)\n",
        "\n",
        "  # \"Dot\" the alphas and the h's\n",
        "  # Remember a.dot(b) = sum over a[t] * b[t]\n",
        "  context = attn_dot([alphas, h])\n",
        "\n",
        "  return context\n"
      ],
      "execution_count": 0,
      "outputs": []
    },
    {
      "cell_type": "code",
      "metadata": {
        "id": "bx6IgrrurDGd",
        "colab_type": "code",
        "colab": {}
      },
      "source": [
        "# define the rest of the decoder (after attention)\n",
        "decoder_lstm = LSTM(LATENT_DIM_DECODER, return_state=True)\n",
        "decoder_dense = Dense(num_words_output, activation='softmax')\n",
        "\n",
        "initial_s = Input(shape=(LATENT_DIM_DECODER,), name='s0')\n",
        "initial_c = Input(shape=(LATENT_DIM_DECODER,), name='c0')\n",
        "context_last_word_concat_layer = Concatenate(axis=2)\n"
      ],
      "execution_count": 0,
      "outputs": []
    },
    {
      "cell_type": "code",
      "metadata": {
        "id": "mWcLTvuOrDGf",
        "colab_type": "code",
        "colab": {}
      },
      "source": [
        "# Unlike previous seq2seq, we cannot get the output\n",
        "# all in one step\n",
        "# Instead we need to do Ty steps\n",
        "# And in each of those steps, we need to consider\n",
        "# all Tx h's\n",
        "\n",
        "# s, c will be re-assigned in each iteration of the loop\n",
        "s = initial_s\n",
        "c = initial_c\n",
        "\n",
        "# collect outputs in a list at first\n",
        "outputs = []\n",
        "for t in range(max_len_target):  # Ty times\n",
        "  # get the context using attention\n",
        "  context = one_step_attention(encoder_outputs, s)\n",
        "\n",
        "  # we need a different layer for each time step\n",
        "  selector = Lambda(lambda x: x[:, t:t + 1])\n",
        "  xt = selector(decoder_inputs_x)\n",
        "\n",
        "  # combine\n",
        "  decoder_lstm_input = context_last_word_concat_layer([context, xt])\n",
        "\n",
        "  # pass the combined [context, last word] into the LSTM\n",
        "  # along with [s, c]\n",
        "  # get the new [s, c] and output\n",
        "  o, s, c = decoder_lstm(decoder_lstm_input, initial_state=[s, c])\n",
        "\n",
        "  # final dense layer to get next word prediction\n",
        "  decoder_outputs = decoder_dense(o)\n",
        "  outputs.append(decoder_outputs)\n",
        "\n",
        "\n",
        "# 'outputs' is now a list of length Ty\n",
        "# each element is of shape (batch size, output vocab size)\n",
        "# therefore if we simply stack all the outputs into 1 tensor\n",
        "# it would be of shape T x N x D\n",
        "# we would like it to be of shape N x T x D\n",
        "\n",
        "def stack_and_transpose(x):\n",
        "  # x is a list of length T, each element is a batch_size x output_vocab_size tensor\n",
        "  x = K.stack(x)  # is now T x batch_size x output_vocab_size tensor\n",
        "  x = K.permute_dimensions(x, pattern=(1, 0, 2))  # is now batch_size x T x output_vocab_size\n",
        "  return x\n",
        "\n",
        "\n",
        "# make it a layer\n",
        "stacker = Lambda(stack_and_transpose)\n",
        "outputs = stacker(outputs)\n"
      ],
      "execution_count": 0,
      "outputs": []
    },
    {
      "cell_type": "code",
      "metadata": {
        "id": "JRvn7ltsrDGh",
        "colab_type": "code",
        "colab": {
          "base_uri": "https://localhost:8080/",
          "height": 1068
        },
        "outputId": "e704b1f4-f396-4c32-c111-01e5a214634c"
      },
      "source": [
        "# create the model\n",
        "model = Model(\n",
        "    inputs=[\n",
        "        encoder_inputs_placeholder,\n",
        "        decoder_inputs_placeholder,\n",
        "        initial_s,\n",
        "        initial_c,\n",
        "    ],\n",
        "    outputs=outputs\n",
        ")\n",
        "\n",
        "def perplexity(y_true, y_pred):\n",
        "    \"\"\"\n",
        "    The perplexity metric. Why isn't this part of Keras yet?!\n",
        "    https://stackoverflow.com/questions/41881308/how-to-calculate-perplexity-of-rnn-in-tensorflow\n",
        "    https://github.com/keras-team/keras/issues/8267\n",
        "    \"\"\"\n",
        "    cross_entropy = K.categorical_crossentropy(y_true, y_pred)\n",
        "    perplexity = K.exp(cross_entropy)\n",
        "    return perplexity\n",
        "  \n",
        "def ppl_e(y_true, y_pred):\n",
        "    return K.exp(K.categorical_crossentropy(y_true, y_pred))\n",
        "\n",
        "# compile the model\n",
        "model.compile(optimizer='rmsprop', loss='categorical_crossentropy', metrics=['accuracy', perplexity, ppl_e])\n",
        "\n",
        "# train the model\n",
        "z = np.zeros((NUM_SAMPLES, LATENT_DIM_DECODER))  # initial [s, c]\n",
        "r = model.fit(\n",
        "    [encoder_inputs, decoder_inputs, z, z], decoder_targets_one_hot,\n",
        "    batch_size=BATCH_SIZE,\n",
        "    epochs=EPOCHS,\n",
        "    validation_split=0.2\n",
        ")\n",
        "\n",
        "# plot some data\n",
        "plt.plot(r.history['loss'], label='loss')\n",
        "plt.plot(r.history['val_loss'], label='val_loss')\n",
        "plt.legend()\n",
        "plt.show()\n",
        "\n",
        "# accuracies\n",
        "plt.plot(r.history['acc'], label='acc')\n",
        "plt.plot(r.history['val_acc'], label='val_acc')\n",
        "plt.legend()\n",
        "plt.show()"
      ],
      "execution_count": 16,
      "outputs": [
        {
          "output_type": "stream",
          "text": [
            "Train on 12000 samples, validate on 3000 samples\n",
            "Epoch 1/15\n",
            "12000/12000 [==============================] - 14s 1ms/step - loss: 2.4984 - acc: 0.6703 - perplexity: 9431.0410 - ppl_e: 9431.0410 - val_loss: 2.5229 - val_acc: 0.6655 - val_perplexity: 40138.0887 - val_ppl_e: 40138.0887\n",
            "Epoch 2/15\n",
            "12000/12000 [==============================] - 12s 975us/step - loss: 1.8982 - acc: 0.7294 - perplexity: 5693.4302 - ppl_e: 5693.4302 - val_loss: 2.2350 - val_acc: 0.6908 - val_perplexity: 16369.5308 - val_ppl_e: 16369.5308\n",
            "Epoch 3/15\n",
            "12000/12000 [==============================] - 12s 969us/step - loss: 1.6813 - acc: 0.7534 - perplexity: 3440.4751 - ppl_e: 3440.4751 - val_loss: 2.0761 - val_acc: 0.7123 - val_perplexity: 19037.0958 - val_ppl_e: 19037.0958\n",
            "Epoch 4/15\n",
            "12000/12000 [==============================] - 12s 968us/step - loss: 1.5229 - acc: 0.7744 - perplexity: 2250.3964 - ppl_e: 2250.3964 - val_loss: 1.9742 - val_acc: 0.7292 - val_perplexity: 22166.0441 - val_ppl_e: 22166.0441\n",
            "Epoch 5/15\n",
            "12000/12000 [==============================] - 12s 964us/step - loss: 1.4003 - acc: 0.7893 - perplexity: 1843.7102 - ppl_e: 1843.7102 - val_loss: 1.8794 - val_acc: 0.7397 - val_perplexity: 11527.9558 - val_ppl_e: 11527.9558\n",
            "Epoch 6/15\n",
            "12000/12000 [==============================] - 12s 971us/step - loss: 1.3029 - acc: 0.8023 - perplexity: 1501.5482 - ppl_e: 1501.5482 - val_loss: 1.8290 - val_acc: 0.7486 - val_perplexity: 12611.5220 - val_ppl_e: 12611.5220\n",
            "Epoch 7/15\n",
            "12000/12000 [==============================] - 12s 973us/step - loss: 1.2217 - acc: 0.8130 - perplexity: 1221.0135 - ppl_e: 1221.0135 - val_loss: 1.7938 - val_acc: 0.7538 - val_perplexity: 18367.1058 - val_ppl_e: 18367.1058\n",
            "Epoch 8/15\n",
            "12000/12000 [==============================] - 12s 977us/step - loss: 1.1518 - acc: 0.8232 - perplexity: 1077.0039 - ppl_e: 1077.0039 - val_loss: 1.7498 - val_acc: 0.7591 - val_perplexity: 17525.6487 - val_ppl_e: 17525.6487\n",
            "Epoch 9/15\n",
            "12000/12000 [==============================] - 12s 988us/step - loss: 1.0921 - acc: 0.8314 - perplexity: 976.4712 - ppl_e: 976.4712 - val_loss: 1.7564 - val_acc: 0.7628 - val_perplexity: 27961.9468 - val_ppl_e: 27961.9468\n",
            "Epoch 10/15\n",
            "12000/12000 [==============================] - 12s 970us/step - loss: 1.0403 - acc: 0.8386 - perplexity: 851.4619 - ppl_e: 851.4619 - val_loss: 1.7302 - val_acc: 0.7668 - val_perplexity: 23927.6206 - val_ppl_e: 23927.6206\n",
            "Epoch 11/15\n",
            "12000/12000 [==============================] - 12s 967us/step - loss: 0.9912 - acc: 0.8461 - perplexity: 740.4540 - ppl_e: 740.4540 - val_loss: 1.7163 - val_acc: 0.7680 - val_perplexity: 26195.3710 - val_ppl_e: 26195.3710\n",
            "Epoch 12/15\n",
            "12000/12000 [==============================] - 12s 969us/step - loss: 0.9483 - acc: 0.8527 - perplexity: 736.5112 - ppl_e: 736.5112 - val_loss: 1.7045 - val_acc: 0.7703 - val_perplexity: 29890.9562 - val_ppl_e: 29890.9562\n",
            "Epoch 13/15\n",
            "12000/12000 [==============================] - 12s 984us/step - loss: 0.9064 - acc: 0.8592 - perplexity: 631.7747 - ppl_e: 631.7747 - val_loss: 1.6870 - val_acc: 0.7732 - val_perplexity: 21977.4730 - val_ppl_e: 21977.4730\n",
            "Epoch 14/15\n",
            "12000/12000 [==============================] - 12s 974us/step - loss: 0.8707 - acc: 0.8647 - perplexity: 604.2777 - ppl_e: 604.2777 - val_loss: 1.6931 - val_acc: 0.7731 - val_perplexity: 26967.3792 - val_ppl_e: 26967.3792\n",
            "Epoch 15/15\n",
            "12000/12000 [==============================] - 12s 978us/step - loss: 0.8396 - acc: 0.8697 - perplexity: 539.8799 - ppl_e: 539.8799 - val_loss: 1.7020 - val_acc: 0.7717 - val_perplexity: 34084.8781 - val_ppl_e: 34084.8781\n"
          ],
          "name": "stdout"
        },
        {
          "output_type": "display_data",
          "data": {
            "image/png": "[encoded data removed]",
            "text/plain": [
              "<Figure size 432x288 with 1 Axes>"
            ]
          },
          "metadata": {
            "tags": []
          }
        },
        {
          "output_type": "display_data",
          "data": {
            "image/png": "[encoded data removed]",
            "text/plain": [
              "<Figure size 432x288 with 1 Axes>"
            ]
          },
          "metadata": {
            "tags": []
          }
        }
      ]
    },
    {
      "cell_type": "code",
      "metadata": {
        "id": "SSgK1-kcrDGj",
        "colab_type": "code",
        "colab": {}
      },
      "source": [
        "##### Make predictions #####\n",
        "# As with the poetry example, we need to create another model\n",
        "# that can take in the RNN state and previous word as input\n",
        "# and accept a T=1 sequence.\n",
        "\n",
        "# The encoder will be stand-alone\n",
        "# From this we will get our initial decoder hidden state\n",
        "# i.e. h(1), ..., h(Tx)\n",
        "encoder_model = Model(encoder_inputs_placeholder, encoder_outputs)\n",
        "\n",
        "# next we define a T=1 decoder model\n",
        "encoder_outputs_as_input = Input(shape=(max_len_input, LATENT_DIM * 2,))\n",
        "decoder_inputs_single = Input(shape=(1,))\n",
        "decoder_inputs_single_x = decoder_embedding(decoder_inputs_single)\n",
        "\n",
        "# no need to loop over attention steps this time because there is only one step\n",
        "context = one_step_attention(encoder_outputs_as_input, initial_s)\n",
        "\n",
        "# combine context with last word\n",
        "decoder_lstm_input = context_last_word_concat_layer([context, decoder_inputs_single_x])\n",
        "\n",
        "# lstm and final dense\n",
        "o, s, c = decoder_lstm(decoder_lstm_input, initial_state=[initial_s, initial_c])\n",
        "decoder_outputs = decoder_dense(o)\n",
        "\n",
        "\n",
        "# note: we don't really need the final stack and tranpose\n",
        "# because there's only 1 output\n",
        "# it is already of size N x D\n",
        "# no need to make it 1 x N x D --> N x 1 x D\n",
        "\n",
        "\n",
        "# create the model object\n",
        "decoder_model = Model(\n",
        "    inputs=[\n",
        "        decoder_inputs_single,\n",
        "        encoder_outputs_as_input,\n",
        "        initial_s,\n",
        "        initial_c\n",
        "    ],\n",
        "    outputs=[decoder_outputs, s, c]\n",
        ")\n",
        "\n",
        "\n",
        "# map indexes back into real words\n",
        "# so we can view the results\n",
        "idx2word_eng = {v: k for k, v in word2idx_inputs.items()}\n",
        "idx2word_trans = {v: k for k, v in word2idx_outputs.items()}\n",
        "\n",
        "\n",
        "def decode_sequence(input_seq):\n",
        "  # Encode the input as state vectors.\n",
        "  enc_out = encoder_model.predict(input_seq)\n",
        "\n",
        "  # Generate empty target sequence of length 1.\n",
        "  target_seq = np.zeros((1, 1))\n",
        "\n",
        "  # Populate the first character of target sequence with the start character.\n",
        "  # NOTE: tokenizer lower-cases all words\n",
        "  target_seq[0, 0] = word2idx_outputs['<sos>']\n",
        "\n",
        "  # if we get this we break\n",
        "  eos = word2idx_outputs['<eos>']\n",
        "\n",
        "  # [s, c] will be updated in each loop iteration\n",
        "  s = np.zeros((1, LATENT_DIM_DECODER))\n",
        "  c = np.zeros((1, LATENT_DIM_DECODER))\n",
        "\n",
        "  # Create the translation\n",
        "  output_sentence = []\n",
        "  for _ in range(max_len_target):\n",
        "    o, s, c = decoder_model.predict([target_seq, enc_out, s, c])\n",
        "\n",
        "    # Get next word\n",
        "    idx = np.argmax(o.flatten())\n",
        "\n",
        "    # End sentence of EOS\n",
        "    if eos == idx:\n",
        "      break\n",
        "\n",
        "    word = ''\n",
        "    if idx > 0:\n",
        "      word = idx2word_trans[idx]\n",
        "      output_sentence.append(word)\n",
        "\n",
        "    # Update the decoder input\n",
        "    # which is just the word just generated\n",
        "    target_seq[0, 0] = idx\n",
        "\n",
        "  return ' '.join(output_sentence)\n",
        "\n",
        "\n",
        "while True:\n",
        "  # Do some test translations\n",
        "  i = np.random.choice(len(input_texts))\n",
        "  input_seq = encoder_inputs[i:i + 1]\n",
        "  translation = decode_sequence(input_seq)\n",
        "  print('-')\n",
        "  print('Input sentence:', input_texts[i])\n",
        "  print('Predicted translation:', translation)\n",
        "  print('Actual translation:', target_texts[i])\n",
        "\n",
        "  ans = input(\"Continue? [Y/n]\")\n",
        "  if ans and ans.lower().startswith('n'):\n",
        "    break\n"
      ],
      "execution_count": 0,
      "outputs": []
    },
    {
      "cell_type": "code",
      "metadata": {
        "id": "oHWlvMo-rDGm",
        "colab_type": "code",
        "colab": {}
      },
      "source": [
        ""
      ],
      "execution_count": 0,
      "outputs": []
    }
  ]
}