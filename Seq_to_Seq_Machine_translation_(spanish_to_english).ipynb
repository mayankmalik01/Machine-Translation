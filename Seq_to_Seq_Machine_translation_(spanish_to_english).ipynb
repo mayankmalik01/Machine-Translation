{
  "nbformat": 4,
  "nbformat_minor": 0,
  "metadata": {
    "colab": {
      "name": "Seq to Seq - Machine translation (spanish to english)",
      "version": "0.3.2",
      "provenance": [],
      "collapsed_sections": []
    },
    "kernelspec": {
      "name": "python3",
      "display_name": "Python 3"
    },
    "accelerator": "GPU"
  },
  "cells": [
    {
      "cell_type": "code",
      "metadata": {
        "id": "HBGUBpBt_51p",
        "colab_type": "code",
        "outputId": "c1425236-2d01-4f9f-8567-06fc53b03179",
        "colab": {
          "base_uri": "https://localhost:8080/",
          "height": 54
        }
      },
      "source": [
        "from google.colab import drive\n",
        "drive.mount('/content/gdrive')"
      ],
      "execution_count": 11,
      "outputs": [
        {
          "output_type": "stream",
          "text": [
            "Drive already mounted at /content/gdrive; to attempt to forcibly remount, call drive.mount(\"/content/gdrive\", force_remount=True).\n"
          ],
          "name": "stdout"
        }
      ]
    },
    {
      "cell_type": "code",
      "metadata": {
        "id": "KLpSGgPoxJ2Q",
        "colab_type": "code",
        "colab": {}
      },
      "source": [
        "import os, sys\n",
        "from keras.models import Model\n",
        "from keras.layers import Input, LSTM, GRU, Dense, Embedding\n",
        "from keras.preprocessing.text import Tokenizer\n",
        "from keras.preprocessing.sequence import pad_sequences\n",
        "from keras.utils import to_categorical\n",
        "import numpy as np\n",
        "import matplotlib.pyplot as plt\n"
      ],
      "execution_count": 0,
      "outputs": []
    },
    {
      "cell_type": "code",
      "metadata": {
        "id": "y003cAXXzIPO",
        "colab_type": "code",
        "outputId": "3c1b3e22-85a6-4d74-8787-5be94e340c32",
        "colab": {
          "base_uri": "https://localhost:8080/",
          "height": 68
        }
      },
      "source": [
        "##### CREATING INPUT AND OUTPUT DATA FOR THE TRANSLATION PROCESS\n",
        "\n",
        "TRANSLATION_FILE_PATH = '/content/gdrive/My Drive/NLP project/spa.txt'\n",
        "GLOVE_PATH = '/content/gdrive/My Drive/NLP project/glove.6B/glove.6B.100d.txt'\n",
        "\n",
        "# some config\n",
        "BATCH_SIZE = 64  # Batch size for training.\n",
        "EPOCHS = 10  # Number of epochs to train for.\n",
        "LATENT_DIM = 256  # Latent dimensionality of the encoding space.\n",
        "NUM_OF_LINES = 15000  # Number of lines to train on.\n",
        "MAX_SEQUENCE_LENGTH = 100\n",
        "MAX_NUM_WORDS = 20000\n",
        "EMBEDDING_DIM = 100\n",
        "\n",
        "def load_data(TRANSLATION_FILE_PATH,NUM_OF_LINES):\n",
        "  input_data = [] # sentence in original language\n",
        "  target_text_outputs = [] # sentence in target language\n",
        "  target_texts_inputs = [] # sentence in target language offset by 1\n",
        "\n",
        "  count = 0\n",
        "  for line in open(TRANSLATION_FILE_PATH):\n",
        "\n",
        "    count += 1\n",
        "    if count > NUM_OF_LINES:\n",
        "      break\n",
        "\n",
        "    input_text, translation = line.rstrip().split('\\t')\n",
        "\n",
        "    target_text_output = translation + ' <eos>'\n",
        "    target_text_input = '<sos> ' + translation\n",
        "\n",
        "    input_data.append(input_text)\n",
        "    target_text_outputs.append(target_text_output)\n",
        "    target_texts_inputs.append(target_text_input)\n",
        " \n",
        "  return (input_data,target_text_outputs,target_texts_inputs)\n",
        "\n",
        "\n",
        "#### loading the data into input,target_input\n",
        "\n",
        "input_texts,target_texts,target_texts_inputs = load_data(TRANSLATION_FILE_PATH, NUM_OF_LINES)\n",
        "\n",
        "print(\"The input data length = {}\".format(len(input_texts)))\n",
        "\n",
        "print(\"The target data length = {}\".format(len(target_texts)))\n",
        "\n",
        "print(\"The input data length ( input ) = {}\".format(len(target_texts_inputs)))"
      ],
      "execution_count": 23,
      "outputs": [
        {
          "output_type": "stream",
          "text": [
            "The input data length = 15000\n",
            "The target data length = 15000\n",
            "The input data length ( input ) = 15000\n"
          ],
          "name": "stdout"
        }
      ]
    },
    {
      "cell_type": "code",
      "metadata": {
        "id": "DIVvteSSonpe",
        "colab_type": "code",
        "outputId": "6ea65876-e04c-490a-dd07-f7208481e570",
        "colab": {
          "base_uri": "https://localhost:8080/",
          "height": 68
        }
      },
      "source": [
        "#### tokenize input and output\n",
        "\n",
        "def tokenize_input(input_texts):\n",
        "  \n",
        "  tokenizer_inputs = Tokenizer()\n",
        "  tokenizer_inputs.fit_on_texts(input_texts)\n",
        "  input_sequences = tokenizer_inputs.texts_to_sequences(input_texts)\n",
        "\n",
        "  # get the word to index mapping for input language\n",
        "  word_input_dict = tokenizer_inputs.word_index\n",
        "  print('Found {} unique input tokens.'.format(len(word_input_dict)))\n",
        "\n",
        "  # determine maximum length input sequence\n",
        "\n",
        "  max_len_input = max(len(each_line) for each_line in input_sequences)\n",
        "  print(\"The max input length is {}\".format(max_len_input))\n",
        "  \n",
        "  return (input_sequences,word_input_dict,max_len_input)\n",
        "\n",
        "\n",
        "def tokenize_output(target_texts,target_texts_inputs):\n",
        "\n",
        "  tokenizer_outputs = Tokenizer(filters='')\n",
        "  tokenizer_outputs.fit_on_texts(target_texts + target_texts_inputs) # inefficient, oh well\n",
        "  target_sequences = tokenizer_outputs.texts_to_sequences(target_texts)\n",
        "  target_sequences_inputs = tokenizer_outputs.texts_to_sequences(target_texts_inputs)\n",
        "  \n",
        "  \n",
        "  word_output_dict = tokenizer_outputs.word_index\n",
        "  print('Found {} unique output tokens.'.format(len(word_output_dict)))\n",
        "                                             \n",
        "  #  adding 1 since indexing starts at 1\n",
        "  num_words_output = len(word_output_dict) + 1\n",
        "\n",
        "# determine maximum length output sequence\n",
        "  max_len_target = max(len(s) for s in target_sequences)\n",
        "  \n",
        "  return (target_sequences,target_sequences_inputs, num_words_output,max_len_target)\n",
        "\n",
        "\n",
        "#### Tokenizing by calling the above functions\n",
        "\n",
        "\n",
        "input_sequences,word_input_dict,max_len_input = tokenize_input(input_texts)\n",
        "target_sequences,target_sequences_inputs, num_words_output,max_len_target = tokenize_output(target_texts,target_texts_inputs)\n"
      ],
      "execution_count": 15,
      "outputs": [
        {
          "output_type": "stream",
          "text": [
            "Found 3179 unique input tokens.\n",
            "The max input length is 6\n",
            "Found 8514 unique output tokens.\n"
          ],
          "name": "stdout"
        }
      ]
    },
    {
      "cell_type": "code",
      "metadata": {
        "id": "n_gcrFbFtZJP",
        "colab_type": "code",
        "outputId": "06eb1b65-a29a-4dd8-8bc3-1a543be60e2f",
        "colab": {
          "base_uri": "https://localhost:8080/",
          "height": 34
        }
      },
      "source": [
        "# padding for encoder_inputs , decoder_inputs, and decoder_targets\n",
        "\n",
        "encoder_inputs = pad_sequences(input_sequences, maxlen=max_len_input)\n",
        "\n",
        "decoder_inputs = pad_sequences(target_sequences_inputs, maxlen=max_len_target, padding='post')\n",
        "\n",
        "decoder_targets = pad_sequences(target_sequences, maxlen=max_len_target, padding='post')\n",
        "\n",
        "print(\"The shapes of encoder, decorder_input, and decoder_target are {}, {}, {}\".format(encoder_inputs.shape,decoder_inputs.shape, decoder_targets.shape))"
      ],
      "execution_count": 16,
      "outputs": [
        {
          "output_type": "stream",
          "text": [
            "The shapes of encoder, decorder_input, and decoder_target are (15000, 6), (15000, 10), (15000, 10)\n"
          ],
          "name": "stdout"
        }
      ]
    },
    {
      "cell_type": "code",
      "metadata": {
        "id": "k-0y8xpOuLCQ",
        "colab_type": "code",
        "colab": {
          "base_uri": "https://localhost:8080/",
          "height": 34
        },
        "outputId": "9404f079-40c7-4be7-85d0-16fbd7c84d66"
      },
      "source": [
        "# store Glove pretrained word vec\n",
        "\n",
        "def load_glove(PATH):\n",
        "  glove = {}\n",
        "  with open(os.path.join(PATH)) as f:\n",
        "\n",
        "    for line in f:\n",
        "      values = line.split()\n",
        "      word = values[0]\n",
        "      vec = np.asarray(values[1:], dtype='float32')\n",
        "      glove[word] = vec\n",
        "\n",
        "  print(\"Total size of words in glove = {}\".format(len(glove)))\n",
        "  return glove\n",
        "        \n",
        "# creating glove \n",
        "glove = load_glove(GLOVE_PATH)\n",
        "        "
      ],
      "execution_count": 20,
      "outputs": [
        {
          "output_type": "stream",
          "text": [
            "Total size of words in glove = 400000\n"
          ],
          "name": "stdout"
        }
      ]
    },
    {
      "cell_type": "code",
      "metadata": {
        "id": "bfjQWim8A3IZ",
        "colab_type": "code",
        "outputId": "3b22e0dc-ef69-4b8b-afd5-1e4e21557931",
        "colab": {
          "base_uri": "https://localhost:8080/",
          "height": 34
        }
      },
      "source": [
        "#### creating input embedding matrix \n",
        "\n",
        "def embedding_matrix(word_input_dict,MAX_NUM_WORDS) : \n",
        "  \n",
        "    # prepare embedding matrix\n",
        "    print('Filling pre-trained embeddings...')\n",
        "    num_words = MAX_NUM_WORDS\n",
        "    embedding_matrix = np.zeros((num_words, EMBEDDING_DIM))\n",
        "    #print(embedding_matrix.shape)\n",
        "    for word, i in word_input_dict.items():\n",
        "      if i < MAX_NUM_WORDS:\n",
        "        embedding_vector = glove.get(word)\n",
        "        if embedding_vector is not None:\n",
        "          # words not found in embedding index will be all zeros.\n",
        "          embedding_matrix[i] = embedding_vector\n",
        "    return embedding_matrix\n",
        "\n",
        "embedding_matrix = embedding_matrix(word_input_dict,MAX_NUM_WORDS)\n",
        "\n",
        "# create embedding layer\n",
        "embedding_layer = Embedding(MAX_NUM_WORDS, EMBEDDING_DIM, weights=[embedding_matrix],input_length=max_len_input )"
      ],
      "execution_count": 34,
      "outputs": [
        {
          "output_type": "stream",
          "text": [
            "Filling pre-trained embeddings...\n"
          ],
          "name": "stdout"
        }
      ]
    },
    {
      "cell_type": "code",
      "metadata": {
        "id": "LNengCghXQUy",
        "colab_type": "code",
        "colab": {}
      },
      "source": [
        "# create embedding layer\n",
        "embedding_layer = Embedding(num_words, EMBEDDING_DIM, weights=[embedding_matrix],input_length=max_len_input, )\n"
      ],
      "execution_count": 0,
      "outputs": []
    },
    {
      "cell_type": "code",
      "metadata": {
        "id": "YVwO52wnahfe",
        "colab_type": "code",
        "colab": {}
      },
      "source": [
        "# create embedding layer\n",
        "# create targets, since we cannot use sparse\n",
        "# categorical cross entropy when we have sequences\n",
        "\n",
        "decoder_targets_one_hot = np.zeros(\n",
        "  (\n",
        "    len(input_texts),\n",
        "    max_len_target,\n",
        "    num_words_output\n",
        "  ),\n",
        "  dtype='float32'\n",
        ")\n",
        "\n",
        "for i, d in enumerate(decoder_targets):\n",
        "  for t, word in enumerate(d):\n",
        "    decoder_targets_one_hot[i, t, word] = 1"
      ],
      "execution_count": 0,
      "outputs": []
    },
    {
      "cell_type": "code",
      "metadata": {
        "id": "MZTLA8OsHH4F",
        "colab_type": "code",
        "outputId": "e3aff445-71a5-4cd2-9cc1-5c1a57bd3e39",
        "colab": {
          "base_uri": "https://localhost:8080/",
          "height": 88
        }
      },
      "source": [
        "##### build the model #####\n",
        "encoder_inputs_placeholder = Input(shape=(max_len_input,))\n",
        "\n",
        "x = embedding_layer(encoder_inputs_placeholder)\n",
        "encoder = LSTM(\n",
        "  LATENT_DIM,\n",
        "  return_state=True,\n",
        "  dropout=0.5 # dropout not available on gpu\n",
        ")\n"
      ],
      "execution_count": 0,
      "outputs": [
        {
          "output_type": "stream",
          "text": [
            "WARNING:tensorflow:From /usr/local/lib/python3.6/dist-packages/tensorflow/python/framework/op_def_library.py:263: colocate_with (from tensorflow.python.framework.ops) is deprecated and will be removed in a future version.\n",
            "Instructions for updating:\n",
            "Colocations handled automatically by placer.\n"
          ],
          "name": "stdout"
        }
      ]
    },
    {
      "cell_type": "code",
      "metadata": {
        "id": "9bca6Ub4waic",
        "colab_type": "code",
        "outputId": "81424e4f-c5dd-4135-b9c0-e9526c04ef53",
        "colab": {
          "base_uri": "https://localhost:8080/",
          "height": 88
        }
      },
      "source": [
        "\n",
        "encoder_outputs, h, c = encoder(x)\n",
        "# encoder_outputs, h = encoder(x) #gru\n",
        "\n",
        "# keep only the states to pass into decoder\n",
        "encoder_states = [h, c]\n",
        "# encoder_states = [state_h] # gru\n"
      ],
      "execution_count": 0,
      "outputs": [
        {
          "output_type": "stream",
          "text": [
            "WARNING:tensorflow:From /usr/local/lib/python3.6/dist-packages/keras/backend/tensorflow_backend.py:3445: calling dropout (from tensorflow.python.ops.nn_ops) with keep_prob is deprecated and will be removed in a future version.\n",
            "Instructions for updating:\n",
            "Please use `rate` instead of `keep_prob`. Rate should be set to `rate = 1 - keep_prob`.\n"
          ],
          "name": "stdout"
        }
      ]
    },
    {
      "cell_type": "code",
      "metadata": {
        "id": "5D7_iVSsxyyW",
        "colab_type": "code",
        "colab": {}
      },
      "source": [
        "\n",
        "\n",
        "# Set up the decoder, using [h, c] as initial state.\n",
        "decoder_inputs_placeholder = Input(shape=(max_len_target,))\n",
        "\n",
        "# this word embedding will not use pre-trained vectors\n",
        "# although you could\n",
        "decoder_embedding = Embedding(num_words_output, LATENT_DIM)\n",
        "decoder_inputs_x = decoder_embedding(decoder_inputs_placeholder)\n",
        "\n",
        "# since the decoder is a \"to-many\" model we want to have\n",
        "# return_sequences=True\n",
        "decoder_lstm = LSTM(\n",
        "  LATENT_DIM,\n",
        "  return_sequences=True,\n",
        "  return_state=True,\n",
        "  # dropout=0.5 # dropout not available on gpu\n",
        ")\n",
        "decoder_outputs, _, _ = decoder_lstm(\n",
        "  decoder_inputs_x,\n",
        "  initial_state=encoder_states\n",
        ")\n",
        "\n",
        "# decoder_outputs, _ = decoder_gru(\n",
        "#   decoder_inputs_x,\n",
        "#   initial_state=encoder_states\n",
        "# )\n",
        "\n",
        "# final dense layer for predictions\n",
        "\n",
        "decoder_dense = Dense(num_words_output, activation='softmax')\n",
        "decoder_outputs = decoder_dense(decoder_outputs)\n"
      ],
      "execution_count": 0,
      "outputs": []
    },
    {
      "cell_type": "code",
      "metadata": {
        "id": "fPcIrAbHx0hi",
        "colab_type": "code",
        "outputId": "8c743113-e31f-4541-9ead-b1f42f1c5f33",
        "colab": {
          "base_uri": "https://localhost:8080/",
          "height": 34
        }
      },
      "source": [
        "decoder_outputs"
      ],
      "execution_count": 0,
      "outputs": [
        {
          "output_type": "execute_result",
          "data": {
            "text/plain": [
              "<tf.Tensor 'dense_1/truediv:0' shape=(?, 13, 10571) dtype=float32>"
            ]
          },
          "metadata": {
            "tags": []
          },
          "execution_count": 15
        }
      ]
    },
    {
      "cell_type": "code",
      "metadata": {
        "id": "6p3ApLsLyUbr",
        "colab_type": "code",
        "outputId": "ae4dafa9-6218-41d2-f364-ad4e81d9d432",
        "colab": {
          "base_uri": "https://localhost:8080/",
          "height": 34
        }
      },
      "source": [
        "encoder_inputs.shape"
      ],
      "execution_count": 0,
      "outputs": [
        {
          "output_type": "execute_result",
          "data": {
            "text/plain": [
              "(20000, 6)"
            ]
          },
          "metadata": {
            "tags": []
          },
          "execution_count": 16
        }
      ]
    },
    {
      "cell_type": "code",
      "metadata": {
        "id": "zyFjl28F6hYU",
        "colab_type": "code",
        "outputId": "04a9d3e9-40c1-420a-8030-3a1be9668d1a",
        "colab": {
          "base_uri": "https://localhost:8080/",
          "height": 139
        }
      },
      "source": [
        "\n",
        "# Create the model object\n",
        "model = Model([encoder_inputs_placeholder, decoder_inputs_placeholder], decoder_outputs)\n",
        "\n",
        "# Compile the model and train it\n",
        "model.compile(\n",
        "  optimizer='Adam',\n",
        "  loss='categorical_crossentropy',\n",
        "  metrics=['accuracy']\n",
        ")\n",
        "\n",
        "r = model.fit(\n",
        "  [encoder_inputs, decoder_inputs], decoder_targets_one_hot,\n",
        "  batch_size=BATCH_SIZE,\n",
        "  epochs=EPOCHS,\n",
        "  validation_split=0.2,\n",
        ")\n",
        "\n",
        "# plot some data\n",
        "plt.plot(r.history['loss'], label='loss')\n",
        "plt.plot(r.history['val_loss'], label='val_loss')\n",
        "plt.legend()\n",
        "plt.show()\n",
        "\n",
        "# accuracies\n",
        "plt.plot(r.history['acc'], label='acc')\n",
        "plt.plot(r.history['val_acc'], label='val_acc')\n",
        "plt.legend()\n",
        "plt.show()\n",
        "\n",
        "# Save model\n",
        "model.save('s2s.h5')\n",
        "\n",
        "\n",
        "##### Make predictions #####\n",
        "# As with the poetry example, we need to create another model\n",
        "# that can take in the RNN state and previous word as input\n",
        "# and accept a T=1 sequence.\n",
        "\n",
        "# The encoder will be stand-alone\n",
        "# From this we will get our initial decoder hidden state\n",
        "encoder_model = Model(encoder_inputs_placeholder, encoder_states)\n",
        "\n",
        "decoder_state_input_h = Input(shape=(LATENT_DIM,))\n",
        "decoder_state_input_c = Input(shape=(LATENT_DIM,))\n",
        "decoder_states_inputs = [decoder_state_input_h, decoder_state_input_c]\n",
        "# decoder_states_inputs = [decoder_state_input_h] # gru\n",
        "\n",
        "decoder_inputs_single = Input(shape=(1,))\n",
        "decoder_inputs_single_x = decoder_embedding(decoder_inputs_single)\n",
        "\n",
        "\n",
        "# this time, we want to keep the states too, to be output\n",
        "# by our sampling model\n",
        "decoder_outputs, h, c = decoder_lstm(\n",
        "  decoder_inputs_single_x,\n",
        "  initial_state=decoder_states_inputs\n",
        ")\n",
        "# decoder_outputs, state_h = decoder_lstm(\n",
        "#   decoder_inputs_single_x,\n",
        "#   initial_state=decoder_states_inputs\n",
        "# ) #gru\n",
        "decoder_states = [h, c]\n",
        "# decoder_states = [h] # gru\n",
        "decoder_outputs = decoder_dense(decoder_outputs)\n",
        "\n",
        "# The sampling model\n",
        "# inputs: y(t-1), h(t-1), c(t-1)\n",
        "# outputs: y(t), h(t), c(t)\n",
        "decoder_model = Model(\n",
        "  [decoder_inputs_single] + decoder_states_inputs, \n",
        "  [decoder_outputs] + decoder_states\n",
        ")\n",
        "\n",
        "# map indexes back into real words\n",
        "# so we can view the results\n",
        "idx2word_eng = {v:k for k, v in word2idx_inputs.items()}\n",
        "idx2word_trans = {v:k for k, v in word2idx_outputs.items()}\n",
        "\n",
        "\n",
        "def decode_sequence(input_seq):\n",
        "  # Encode the input as state vectors.\n",
        "  states_value = encoder_model.predict(input_seq)\n",
        "\n",
        "  # Generate empty target sequence of length 1.\n",
        "  target_seq = np.zeros((1, 1))\n",
        "\n",
        "  # Populate the first character of target sequence with the start character.\n",
        "  # NOTE: tokenizer lower-cases all words\n",
        "  target_seq[0, 0] = word2idx_outputs['<sos>']\n",
        "\n",
        "  # if we get this we break\n",
        "  eos = word2idx_outputs['<eos>']\n",
        "\n",
        "  # Create the translation\n",
        "  output_sentence = []\n",
        "  for _ in range(max_len_target):\n",
        "    output_tokens, h, c = decoder_model.predict(\n",
        "      [target_seq] + states_value\n",
        "    )\n",
        "    # output_tokens, h = decoder_model.predict(\n",
        "    #     [target_seq] + states_value\n",
        "    # ) # gru\n",
        "\n",
        "    # Get next word\n",
        "    idx = np.argmax(output_tokens[0, 0, :])\n",
        "\n",
        "    # End sentence of EOS\n",
        "    if eos == idx:\n",
        "      break\n",
        "\n",
        "    word = ''\n",
        "    if idx > 0:\n",
        "      word = idx2word_trans[idx]\n",
        "      output_sentence.append(word)\n",
        "\n",
        "    # Update the decoder input\n",
        "    # which is just the word just generated\n",
        "    target_seq[0, 0] = idx\n",
        "\n",
        "    # Update states\n",
        "    states_value = [h, c]\n",
        "    # states_value = [h] # gru\n",
        "\n",
        "  return ' '.join(output_sentence)\n",
        "\n",
        "\n",
        "while True:\n",
        "  # Do some test translations\n",
        "  i = np.random.choice(len(input_texts))\n",
        "  input_seq = encoder_inputs[i:i+1]\n",
        "  translation = decode_sequence(input_seq)\n",
        "  print('-')\n",
        "  print('Input:', input_texts[i])\n",
        "  print('Translation:', translation)\n",
        "\n",
        "  ans = input(\"Continue? [Y/n]\")\n",
        "  if ans and ans.lower().startswith('n'):\n",
        "    break\n",
        "\n"
      ],
      "execution_count": 0,
      "outputs": [
        {
          "output_type": "stream",
          "text": [
            "WARNING:tensorflow:From /usr/local/lib/python3.6/dist-packages/tensorflow/python/ops/math_ops.py:3066: to_int32 (from tensorflow.python.ops.math_ops) is deprecated and will be removed in a future version.\n",
            "Instructions for updating:\n",
            "Use tf.cast instead.\n",
            "WARNING:tensorflow:From /usr/local/lib/python3.6/dist-packages/tensorflow/python/ops/math_grad.py:102: div (from tensorflow.python.ops.math_ops) is deprecated and will be removed in a future version.\n",
            "Instructions for updating:\n",
            "Deprecated in favor of operator or tf.math.divide.\n"
          ],
          "name": "stdout"
        }
      ]
    }
  ]
}